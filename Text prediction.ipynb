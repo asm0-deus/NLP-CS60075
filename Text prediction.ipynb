{
  "nbformat": 4,
  "nbformat_minor": 2,
  "metadata": {
    "colab": {
      "name": "NLP_CS60075_A21_Assn1.ipynb",
      "provenance": [],
      "collapsed_sections": []
    },
    "kernelspec": {
      "name": "python3",
      "display_name": "Python 3.9.6 64-bit"
    },
    "language_info": {
      "name": "python",
      "version": "3.9.6",
      "mimetype": "text/x-python",
      "codemirror_mode": {
        "name": "ipython",
        "version": 3
      },
      "pygments_lexer": "ipython3",
      "nbconvert_exporter": "python",
      "file_extension": ".py"
    },
    "interpreter": {
      "hash": "23300995598eec4bcf6bd89cf02d1c3675e8b2616661418dbbf5580aa901878d"
    }
  },
  "cells": [
    {
      "cell_type": "markdown",
      "source": [
        "# **Assignment-1 for CS60075: Natural Language Processing**\n",
        "\n",
        "#### Instructor : Prof. Sudeshna Sarkar\n",
        "\n",
        "#### Teaching Assistants : Alapan Kuila, Aniruddha Roy, Prithwish Jana, Udit Dharmin Desai\n",
        "\n",
        "#### Date of Announcement: 4th Sept, 2021\n",
        "#### Deadline for Submission: 11.59pm on Sunday, 12th Sept, 2021 \n",
        "\n",
        "#### (**NOTE**: Submit a .zip file, containing this .ipynb file, named as `<Your_Roll_Number>_Assn1_NLP_A21.ipynb` and the raw text corpus named `<Your_Roll_Number>_Assn1_rawCorpus.txt`. For example, if your roll number is 20XX12Y45, name the .ipynb file as `20XX12Y45_Assn1_NLP_A21.ipynb`. Name the .zip as `<Your_Roll_Number>_Assn1_NLP_A21.zip`. Write your code in the respective designated portion of the .ipynb. Also before submitting, make sure that all the outputs of your code are present in the .ipynb file itself.)"
      ],
      "metadata": {
        "id": "4Z_wN2v1RT1F"
      }
    },
    {
      "cell_type": "markdown",
      "source": [
        "### **Submission Details:**\r\n",
        "Name: Agnibha Sinha\r\n",
        "\r\n",
        "Roll No.: 20EC10001\r\n",
        "\r\n",
        "Department: EC\r\n",
        "\r\n",
        "Email-ID: agnibha.sinha26@gmail.com"
      ],
      "metadata": {
        "id": "3a35tmEySCx7"
      }
    },
    {
      "cell_type": "markdown",
      "source": [
        "## **Reading a Raw Text Corpus**"
      ],
      "metadata": {
        "id": "9weHMmyd8fnq"
      }
    },
    {
      "cell_type": "markdown",
      "source": [
        "Retrieve & save raw corpus"
      ],
      "metadata": {
        "id": "DmSy_LOK2aGQ"
      }
    },
    {
      "cell_type": "code",
      "execution_count": 5,
      "source": [
        "# To construct your corpus, retrieve (through Python code) Chapter I to Chapter X,\r\n",
        "# both inclusive, from the link below:\r\n",
        "# \"https://www.gutenberg.org/files/730/730-0.txt\"\r\n",
        "# Save this corpus in a text file, named as 'rawCorpus.txt'\r\n",
        "# Print the total number of characters in the text file \r\n",
        "\r\n",
        "# *** Write code ***\r\n",
        "from urllib.request import urlopen\r\n",
        "import requests\r\n",
        "from bs4 import BeautifulSoup\r\n",
        "\r\n",
        "URL=\"https://www.gutenberg.org/files/730/730-0.txt\"\r\n",
        "page=urlopen(URL).read()\r\n",
        "var=BeautifulSoup(page)\r\n",
        "var=var.get_text('p')\r\n",
        "var=str(var)\r\n",
        "para=\"\"\r\n",
        "wd=var.split()\r\n",
        "chcnt=0\r\n",
        "flag=0\r\n",
        "for i in range(len(wd)):\r\n",
        "    if(wd[i]==\"CHAPTER\" and wd[i+1]==\"I.\"):\r\n",
        "        # print('start')\r\n",
        "        flag=1\r\n",
        "    if(wd[i]==\"CHAPTER\" and wd[i+1]==\"XI.\"):\r\n",
        "        # print(\"end\")\r\n",
        "        break\r\n",
        "    if(flag==1):\r\n",
        "        para=para+' '+ wd[i]\r\n",
        "\r\n",
        "file1=open(\"rawCorpus.txt\",'w')\r\n",
        "file1.write(str(para))\r\n",
        "print('# of characters in text file = ',len(para))\r\n",
        "file1.close()\r\n",
        "# print(para)\r\n",
        "\r\n"
      ],
      "outputs": [
        {
          "output_type": "stream",
          "name": "stdout",
          "text": [
            "# of characters in text file =  148095\n"
          ]
        }
      ],
      "metadata": {
        "id": "rku6rV2ORpZA"
      }
    },
    {
      "cell_type": "markdown",
      "source": [
        "Read the corpus"
      ],
      "metadata": {
        "id": "6KZIOy0Y2hzQ"
      }
    },
    {
      "cell_type": "code",
      "execution_count": 6,
      "source": [
        "# Read the corpus from rawCorpus.txt, in a variable `rawReadCorpus`\r\n",
        "# *** Write code ***\r\n",
        "file1=open(\"rawCorpus.txt\")\r\n",
        "rawReadCorpus=file1.read()\r\n",
        "print (\"Total # of characters in read dataset: {}\".format(len(rawReadCorpus)))"
      ],
      "outputs": [
        {
          "output_type": "stream",
          "name": "stdout",
          "text": [
            "Total # of characters in read dataset: 148095\n"
          ]
        }
      ],
      "metadata": {
        "id": "DsdBJa_l2l7g"
      }
    },
    {
      "cell_type": "markdown",
      "source": [
        "## **Installing NLTK**\n",
        "\n",
        "The Natural Language Toolkit ([NLTK](https://www.nltk.org/)) is a Python module that is intended to support research and teaching in NLP or closely related areas. \n",
        "\n",
        "Detailed installation instructions to install NLTK can be found at this [link](https://www.nltk.org/install.html).\n",
        "\n",
        "To ensure uniformity, we suggest to use **python3**. You can download Anaconda3 and create a separate environment to do this assignment, eg.\n",
        "```bash\n",
        "conda create -n myenv python=3.6\n",
        "conda activate myenv\n",
        "```\n",
        "\n",
        "The link to anaconda3 for Windows and Linux is available here https://docs.anaconda.com/anaconda/install/. Subsequently, you can install NLTK through the following commands:\n",
        "```bash\n",
        "sudo pip3 install nltk \n",
        "python3 \n",
        "nltk.download()\n",
        "```"
      ],
      "metadata": {
        "id": "xhkmGsSoV0zG"
      }
    },
    {
      "cell_type": "markdown",
      "source": [
        "## **Preprocessing the corpus**"
      ],
      "metadata": {
        "id": "utKtZeHq4N98"
      }
    },
    {
      "cell_type": "markdown",
      "source": [
        "**Tokenize into words and sentences, using NLTK library:** Using the NLTK modules imported above, retrieve a case-insensitive preprocessed model. Make sure to take care of words like \"\\_will\\_\" (that should ideally appear as \"will\"), \"wouldn't\" (that should ideally appear as a single word, and not multiple tokens) and other occurences of special cases that you find in the raw corpus. "
      ],
      "metadata": {
        "id": "5-LSUX__82Ff"
      }
    },
    {
      "cell_type": "code",
      "execution_count": 7,
      "source": [
        "# Importing modules\r\n",
        "import nltk\r\n",
        "nltk.download('punkt') # For tokenizers\r\n",
        "from nltk.tokenize import word_tokenize,sent_tokenize"
      ],
      "outputs": [
        {
          "output_type": "stream",
          "name": "stderr",
          "text": [
            "[nltk_data] Downloading package punkt to\n",
            "[nltk_data]     C:\\Users\\USER\\AppData\\Roaming\\nltk_data...\n",
            "[nltk_data]   Package punkt is already up-to-date!\n"
          ]
        }
      ],
      "metadata": {
        "id": "2g7eO4Dm4jIn"
      }
    },
    {
      "cell_type": "code",
      "execution_count": 8,
      "source": [
        "# *** Write code for preprocessing the corpus ***\r\n",
        "sents=nltk.sent_tokenize(rawReadCorpus)\r\n",
        "words=nltk.word_tokenize(rawReadCorpus)\r\n",
        "# Print first 5 sentences of your preprocessed corpus *** Write code ***\r\n",
        "# for i in range(0,6):\r\n",
        "    # print(sents[i])\r\n",
        "for i in range(len(words)):\r\n",
        "    words[i]=words[i].lower()\r\n",
        "extras=[\",\",\".\",\":\",\";\"]\r\n",
        "for k in extras:\r\n",
        "    while(words.count(k)>0):\r\n",
        "        words.remove(k)\r\n",
        "words=[word.lower() for word in words if word.isalpha()]\r\n",
        "for i in range(0,5):\r\n",
        "    print(sents[i])\r\n",
        "for i in range(0,5):\r\n",
        "    print(words[i])\r\n",
        "# Print first 5 words/tokens of your preprocessed corpus *** Write code ***"
      ],
      "outputs": [
        {
          "output_type": "stream",
          "name": "stdout",
          "text": [
            " CHAPTER I.\n",
            "TREATS OF THE PLACE WHERE OLIVER TWIST WAS BORN AND OF THE CIRCUMSTANCES ATTENDING HIS BIRTH Among other public buildings in a certain town, which for many reasons it will be prudent to refrain from mentioning, and to which I will assign no fictitious name, there is one anciently common to most towns, great or small: to wit, a workhouse; and in this workhouse was born; on a day and date which I need not trouble myself to repeat, inasmuch as it can be of no possible consequence to the reader, in this stage of the business at all events; the item of mortality whose name is prefixed to the head of this chapter.\n",
            "For a long time after it was ushered into this world of sorrow and trouble, by the parish surgeon, it remained a matter of considerable doubt whether the child would survive to bear any name at all; in which case it is somewhat more than probable that these memoirs would never have appeared; or, if they had, that being comprised within a couple of pages, they would have possessed the inestimable merit of being the most concise and faithful specimen of biography, extant in the literature of any age or country.\n",
            "Although I am not disposed to maintain that the being born in a workhouse, is in itself the most fortunate and enviable circumstance that can possibly befall a human being, I do mean to say that in this particular instance, it was the best thing for Oliver Twist that could by possibility have occurred.\n",
            "The fact is, that there was considerable difficulty in inducing Oliver to take upon himself the office of respiration,—a troublesome practice, but one which custom has rendered necessary to our easy existence; and for some time he lay gasping on a little flock mattress, rather unequally poised between this world and the next: the balance being decidedly in favour of the latter.\n",
            "chapter\n",
            "i\n",
            "treats\n",
            "of\n",
            "the\n"
          ]
        }
      ],
      "metadata": {
        "id": "cWIzYXyz9Zt_"
      }
    },
    {
      "cell_type": "markdown",
      "source": [
        "**Perform the following tasks for the given corpus:**\n",
        "1. Print the average number of tokens per sentence.\n",
        "2. Print the length of the longest and the shortest sentence, that contains the word 'Oliver' ('Oliver' is case-insensitive).\n",
        "3. Print the number of unique tokens in the corpus, after stopword removal using the stopwords from NLTK (case-insensitive)."
      ],
      "metadata": {
        "id": "eZ75_a1QL70J"
      }
    },
    {
      "cell_type": "code",
      "execution_count": 9,
      "source": [
        "# Importing modules\r\n",
        "nltk.download('stopwords')\r\n",
        "from nltk.corpus import stopwords"
      ],
      "outputs": [
        {
          "output_type": "stream",
          "name": "stderr",
          "text": [
            "[nltk_data] Downloading package stopwords to\n",
            "[nltk_data]     C:\\Users\\USER\\AppData\\Roaming\\nltk_data...\n",
            "[nltk_data]   Package stopwords is already up-to-date!\n"
          ]
        }
      ],
      "metadata": {
        "id": "pyG0g3oSADmV"
      }
    },
    {
      "cell_type": "code",
      "execution_count": 10,
      "source": [
        "# *** Write code for the 2 tasks above ***\r\n",
        "avg_tokens=round(len(words)/len(sents))\r\n",
        "unique_tokens=set(words)\r\n",
        "stop_words=set(stopwords.words('english'))\r\n",
        "ans2=[]\r\n",
        "ans3=[]\r\n",
        "for i in unique_tokens:\r\n",
        "    if i not in stop_words:\r\n",
        "        ans3.append(i)\r\n",
        "for i in range(len(sents)):\r\n",
        "    wd123=nltk.word_tokenize(sents[i])\r\n",
        "    for j in range(len(wd123)):\r\n",
        "        if(wd123[j].lower()=='oliver'):\r\n",
        "            extras=[\",\",\".\",\":\",\";\",\"-\"]\r\n",
        "            for k in extras:\r\n",
        "                while(wd123.count(k)>0):\r\n",
        "                    wd123.remove(k)\r\n",
        "            ans2.append(len(wd123))\r\n",
        "            break\r\n",
        "\r\n",
        "print(\"The number of average tokens per sentence = \",avg_tokens)    \r\n",
        "\r\n",
        "print(\"Length of longest sentence having oliver = \",max(ans2))\r\n",
        "print(\"Length of shortest sentence having oliver = \",min(ans2))\r\n",
        "\r\n",
        "    \r\n",
        "\r\n",
        "\r\n",
        "print(\"The number of unique tokens = \",len(unique_tokens))\r\n",
        "print(\"The number of unique tokens after removing stopwords = \",len(ans3))\r\n"
      ],
      "outputs": [
        {
          "output_type": "stream",
          "name": "stdout",
          "text": [
            "The number of average tokens per sentence =  24\n",
            "Length of longest sentence having oliver =  114\n",
            "Length of shortest sentence having oliver =  3\n",
            "The number of unique tokens =  3999\n",
            "The number of unique tokens after removing stopwords =  3858\n"
          ]
        }
      ],
      "metadata": {
        "id": "ydHIxC7lG7Py"
      }
    },
    {
      "cell_type": "markdown",
      "source": [
        "## **Language Modeling**"
      ],
      "metadata": {
        "id": "X5RiDR7TJjKX"
      }
    },
    {
      "cell_type": "markdown",
      "source": [
        "### Task: In this sub-task, you are expected to carry out the following tasks:\n",
        "\n",
        "1. **Create the following language models** on the given corpus: <br>\n",
        "    i.   Unigram <br>\n",
        "    ii.  Bigram <br>\n",
        "    iii. Trigram <br>\n",
        "\n",
        "2. **List the top 10 bigrams, trigrams**\n",
        "(Additionally remove those items which contain only articles, prepositions, determiners eg. \"of the\", \"in a\", etc. List top-10 bigrams/trigrams in both the original and processed models)."
      ],
      "metadata": {
        "id": "UJeTSt8HM95L"
      }
    },
    {
      "cell_type": "code",
      "execution_count": 11,
      "source": [
        "from nltk.util import ngrams\r\n",
        "unigrams=[]\r\n",
        "bigrams=[]\r\n",
        "trigrams=[]\r\n",
        "\r\n",
        "for content in (sents): # *** Write code ***\r\n",
        "    unigrams.extend(words)\r\n",
        "    bigrams.extend(ngrams(words,2))\r\n",
        "    trigrams.extend(ngrams(words,3))\r\n",
        "    ##similar for trigrams \r\n",
        "    # *** Write code ***\r\n",
        "\r\n",
        "print (\"Sample of n-grams:\\n\" + \"-------------------------\")\r\n",
        "print (\"--> UNIGRAMS: \\n\" + str(unigrams[:5]) + \" ...\\n\")\r\n",
        "print (\"--> BIGRAMS: \\n\" + str(bigrams[:5]) + \" ...\\n\")\r\n",
        "print (\"--> TRIGRAMS: \\n\" + str(trigrams[:5]) + \" ...\\n\")"
      ],
      "outputs": [
        {
          "output_type": "stream",
          "name": "stdout",
          "text": [
            "Sample of n-grams:\n",
            "-------------------------\n",
            "--> UNIGRAMS: \n",
            "['chapter', 'i', 'treats', 'of', 'the'] ...\n",
            "\n",
            "--> BIGRAMS: \n",
            "[('chapter', 'i'), ('i', 'treats'), ('treats', 'of'), ('of', 'the'), ('the', 'place')] ...\n",
            "\n",
            "--> TRIGRAMS: \n",
            "[('chapter', 'i', 'treats'), ('i', 'treats', 'of'), ('treats', 'of', 'the'), ('of', 'the', 'place'), ('the', 'place', 'where')] ...\n",
            "\n"
          ]
        }
      ],
      "metadata": {}
    },
    {
      "cell_type": "code",
      "execution_count": 12,
      "source": [
        "from nltk.util import ngrams\r\n",
        "unigrams=[]\r\n",
        "bigrams=[]\r\n",
        "trigrams=[]\r\n",
        "\r\n",
        "for content in (sents): # *** Write code ***\r\n",
        "    unigrams.extend(words)\r\n",
        "    bigrams.extend(ngrams(words,2))\r\n",
        "    trigrams.extend(ngrams(words,3))\r\n",
        "    ##similar for trigrams \r\n",
        "    # *** Write code ***\r\n",
        "\r\n",
        "print (\"Sample of n-grams:\\n\" + \"-------------------------\")\r\n",
        "print (\"--> UNIGRAMS: \\n\" + str(unigrams[:5]) + \" ...\\n\")\r\n",
        "print (\"--> BIGRAMS: \\n\" + str(bigrams[:5]) + \" ...\\n\")\r\n",
        "print (\"--> TRIGRAMS: \\n\" + str(trigrams[:5]) + \" ...\\n\")\r\n",
        "\r\n",
        "# list of unigram, bigram & trigram after removing those that \r\n",
        "# totally contain only articles, prepositions, determiners\r\n",
        "# Eg. For bigrams, don't remove items like (\"a\", \"boy\") --> where not all are \r\n",
        "#     articles, prepositions, determiners\r\n",
        "#     But remove items like (\"in\", \"the\") --> where all are articles, prepositions, determiners\r\n",
        "# Similarly, for unigrams and trigrams\r\n",
        "def rem(x):\r\n",
        "    y=[]\r\n",
        "    for pair in x:\r\n",
        "        count=0\r\n",
        "        for word in pair:\r\n",
        "            if word in stop_words:\r\n",
        "                count=count or 0\r\n",
        "            else:\r\n",
        "                count = count or 1\r\n",
        "        if(count==1):\r\n",
        "            y.append(pair)\r\n",
        "    return y\r\n",
        "\r\n",
        "unigrams_Processed =rem(unigrams) # *** Write code ***\r\n",
        "bigrams_Processed = rem(bigrams) # *** Write code ***\r\n",
        "trigrams_Processed = rem(trigrams) # *** Write code ***\r\n",
        "\r\n",
        "print (\"Sample of n-grams after processing:\\n\" + \"-------------------------\")\r\n",
        "print (\"--> UNIGRAMS: \\n\" + str(unigrams_Processed[:5]) + \" ...\\n\")\r\n",
        "print (\"--> BIGRAMS: \\n\" + str(bigrams_Processed[:5]) + \" ...\\n\")\r\n",
        "print (\"--> TRIGRAMS: \\n\" + str(trigrams_Processed[:5]) + \" ...\\n\")\r\n",
        "\r\n",
        "def get_ngrams_freqDist(n, ngramList):\r\n",
        "    #This function computes the frequency corresponding to each ngram in ngramList \r\n",
        "    #Here, n=1 for unigram, n=2 for bigram, etc.\r\n",
        "    #ngramList = list of unigrams when n=1, ngramList = list of bigrams when n=2\r\n",
        "    #Returns: ngram_freq_dict (a Python dictionary where key = a ngram, value = its frequency)\r\n",
        "    \r\n",
        "    # *** Write code ***\r\n",
        "    ngram_freq_dict=nltk.FreqDist(ngramList)\r\n",
        "    return ngram_freq_dict\r\n",
        "\r\n",
        "unigrams_freqDist = get_ngrams_freqDist(1, unigrams)\r\n",
        "unigrams_Processed_freqDist = get_ngrams_freqDist(1, unigrams_Processed)\r\n",
        "bigrams_freqDist = get_ngrams_freqDist(2, bigrams_Processed)\r\n",
        "bigrams_Processed_freqDist = get_ngrams_freqDist(2, bigrams_Processed)\r\n",
        "trigrams_freqDist = get_ngrams_freqDist(3, trigrams_Processed)\r\n",
        "trigrams_Processed_freqDist = get_ngrams_freqDist(3, trigrams_Processed)                                                 \r\n",
        "\r\n",
        "# Print top 10 unigrams, having highest frequency as in unigrams_freqDist\r\n",
        "# *** Write code ***\r\n",
        "print(\"top 10 unigrams in unigrams_freqDist: \",unigrams_freqDist.most_common(10))\r\n",
        "# Print top 10 unigrams, having highest frequency as in unigrams_Processed_freqDist\r\n",
        "# *** Write code ***\r\n",
        "print(\"top 10 unigrams in unigrams__Processed_freqDist: \",unigrams_Processed_freqDist.most_common(10))\r\n",
        "# Print top 10 bigrams, having highest frequency as in bigrams_freqDist\r\n",
        "# *** Write code ***\r\n",
        "print(\"top 10 bigrams in bigrams_freqDist: \",bigrams_freqDist.most_common(10))\r\n",
        "# Print top 10 bigrams, having highest frequency as in bigrams_Processed_freqDist\r\n",
        "# *** Write code ***\r\n",
        "print(\"top 10 bigrams in bigrams__Processed_freqDist: \",bigrams_Processed_freqDist.most_common(10))\r\n",
        "# Print top 10 trigrams, having highest frequency as in trigrams_freqDist\r\n",
        "# *** Write code ***\r\n",
        "print(\"top 10 trigrams in trigrams_freqDist: \",trigrams_freqDist.most_common(10))\r\n",
        "# Print top 10 trigrams, having highest frequency as in trigrams_Processed_freqDist\r\n",
        "# *** Write code ***\r\n",
        "print(\"top 10 trigrams in trigrams__Processed_freqDist: \",trigrams_Processed_freqDist.most_common(10))"
      ],
      "outputs": [
        {
          "output_type": "stream",
          "name": "stdout",
          "text": [
            "Sample of n-grams:\n",
            "-------------------------\n",
            "--> UNIGRAMS: \n",
            "['chapter', 'i', 'treats', 'of', 'the'] ...\n",
            "\n",
            "--> BIGRAMS: \n",
            "[('chapter', 'i'), ('i', 'treats'), ('treats', 'of'), ('of', 'the'), ('the', 'place')] ...\n",
            "\n",
            "--> TRIGRAMS: \n",
            "[('chapter', 'i', 'treats'), ('i', 'treats', 'of'), ('treats', 'of', 'the'), ('of', 'the', 'place'), ('the', 'place', 'where')] ...\n",
            "\n",
            "Sample of n-grams after processing:\n",
            "-------------------------\n",
            "--> UNIGRAMS: \n",
            "['chapter', 'treats', 'of', 'the', 'place'] ...\n",
            "\n",
            "--> BIGRAMS: \n",
            "[('chapter', 'i'), ('i', 'treats'), ('treats', 'of'), ('the', 'place'), ('place', 'where')] ...\n",
            "\n",
            "--> TRIGRAMS: \n",
            "[('chapter', 'i', 'treats'), ('i', 'treats', 'of'), ('treats', 'of', 'the'), ('of', 'the', 'place'), ('the', 'place', 'where')] ...\n",
            "\n",
            "top 10 unigrams in unigrams_freqDist:  [('the', 1860405), ('and', 937320), ('a', 780735), ('of', 736935), ('to', 674520), ('he', 509175), ('his', 498225), ('in', 482895), ('was', 402960), ('oliver', 332880)]\n",
            "top 10 unigrams in unigrams__Processed_freqDist:  [('the', 1860405), ('and', 937320), ('of', 736935), ('he', 509175), ('his', 498225), ('in', 482895), ('was', 402960), ('oliver', 332880), ('that', 304410), ('with', 273750)]\n",
            "top 10 bigrams in bigrams_freqDist:  [(('said', 'the'), 98550), (('the', 'old'), 59130), (('the', 'undertaker'), 49275), (('old', 'gentleman'), 47085), (('the', 'boy'), 40515), (('the', 'jew'), 39420), (('the', 'gentleman'), 37230), (('the', 'beadle'), 33945), (('oliver', 's'), 31755), (('oliver', 'twist'), 30660)]\n",
            "top 10 bigrams in bigrams__Processed_freqDist:  [(('said', 'the'), 98550), (('the', 'old'), 59130), (('the', 'undertaker'), 49275), (('old', 'gentleman'), 47085), (('the', 'boy'), 40515), (('the', 'jew'), 39420), (('the', 'gentleman'), 37230), (('the', 'beadle'), 33945), (('oliver', 's'), 31755), (('oliver', 'twist'), 30660)]\n",
            "top 10 trigrams in trigrams_freqDist:  [(('the', 'old', 'gentleman'), 37230), (('gentleman', 'in', 'the'), 25185), (('the', 'gentleman', 'in'), 22995), (('the', 'white', 'waistcoat'), 21900), (('in', 'the', 'white'), 19710), (('said', 'the', 'undertaker'), 18615), (('said', 'the', 'gentleman'), 16425), (('said', 'the', 'jew'), 15330), (('sir', 'replied', 'oliver'), 13140), (('my', 'dear', 'said'), 12045)]\n",
            "top 10 trigrams in trigrams__Processed_freqDist:  [(('the', 'old', 'gentleman'), 37230), (('gentleman', 'in', 'the'), 25185), (('the', 'gentleman', 'in'), 22995), (('the', 'white', 'waistcoat'), 21900), (('in', 'the', 'white'), 19710), (('said', 'the', 'undertaker'), 18615), (('said', 'the', 'gentleman'), 16425), (('said', 'the', 'jew'), 15330), (('sir', 'replied', 'oliver'), 13140), (('my', 'dear', 'said'), 12045)]\n"
          ]
        }
      ],
      "metadata": {
        "id": "DlPXGvVaR-ka"
      }
    },
    {
      "cell_type": "markdown",
      "source": [
        "## **Next three words' Prediction using Smoothed Models**"
      ],
      "metadata": {
        "id": "Lqu8nVV7NREo"
      }
    },
    {
      "cell_type": "markdown",
      "source": [
        "For a bigram model, add-one smoothing is defined by $P_{Add-1}(w_i|w_{i-1})=\\frac{count(w_{i-1},w_i)+1}{count(w_{i-1})+V}$.\n",
        "That is, pretend we saw each word one more time than we did.\n",
        "\n",
        "You have two tasks here.\n",
        "\n",
        "First, compute the smoothed bigram and trigram models from the bigrams_freqDist and trigrams_freqDist you calculated above (use the unprocessed models). Second, using these smoothed models, predict the next 3 possible word sequences for testSent1, testSent2 and testSent3, using your smoothed models.\n",
        "\n",
        "As for example, for the string 'Raj has a' the answers can be as below: \n",
        "\n",
        "(1) Raj has a **beautiful red car**\n",
        "\n",
        "(2) Raj has a **charismatic magnetic personality**"
      ],
      "metadata": {
        "id": "a2vnIM26b2WA"
      }
    },
    {
      "cell_type": "code",
      "execution_count": 17,
      "source": [
        "testSent1 = \"There was a sudden jerk, a terrific convulsion of the limbs; and there he\"\r\n",
        "testSent2 = \"They made room for the stranger, but he sat down\"\r\n",
        "testSent3 = \"The hungry and destitute situation of the infant orphan was duly reported by\""
      ],
      "outputs": [],
      "metadata": {
        "id": "qAGB1_S8NThy"
      }
    },
    {
      "cell_type": "code",
      "execution_count": 93,
      "source": [
        "# *** Write code ***\r\n",
        "ngrams_all={1:unigrams,2:bigrams,3:trigrams}\r\n",
        "ngrams_voc={1:set(unigrams),2:set(bigrams),3:set(trigrams)}\r\n",
        "total_ngrams={1:-1,2:-1,3:-1}\r\n",
        "total_voc={1:-1,2:-1,3:-1}\r\n",
        "for i in range(3):\r\n",
        "    total_ngrams[i+1]=len(ngrams_all[i+1])\r\n",
        "    total_voc[i+1]=len(ngrams_voc[i+1])\r\n",
        "ngrams_prob1={1:unigrams_freqDist.most_common(),2:bigrams_freqDist.most_common(),3:trigrams_freqDist.most_common()}\r\n",
        "# print(ngrams_prob[1])\r\n",
        "ngrams_prob={1:[],2:[],3:[]}\r\n",
        "for i in range(3):\r\n",
        "    for elem in ngrams_prob1[i+1]:\r\n",
        "        tlist=[elem[0],elem[-1]]\r\n",
        "        ngrams_prob[i+1].append(tlist)\r\n",
        "\r\n",
        "# print(type(ngrams_prob[2][0]))\r\n",
        "for i in range(3):\r\n",
        "    for ngram in ngrams_prob[i+1]:\r\n",
        "        ngram[-1]=(int(ngram[-1])+1)/(total_ngrams[i+1]+total_voc[i+1])\r\n",
        "\r\n"
      ],
      "outputs": [
        {
          "output_type": "stream",
          "name": "stdout",
          "text": [
            "<class 'list'>\n"
          ]
        }
      ],
      "metadata": {
        "id": "yLY1ymH-ZuJu"
      }
    },
    {
      "cell_type": "code",
      "execution_count": 96,
      "source": [
        "print (\"Most common unigrams: \", str(ngrams_prob[1][:10]))\r\n",
        "print (\"\\nMost common bigrams: \", str(ngrams_prob[2][:10]))\r\n",
        "print (\"\\nMost common trigrams: \", str(ngrams_prob[3][:10]))\r\n"
      ],
      "outputs": [
        {
          "output_type": "stream",
          "name": "stdout",
          "text": [
            "Most common unigrams:  [['the', 0.06586640167244323], ['and', 0.03318520875659193], ['a', 0.027641423955919644], ['of', 0.026090714920766558], ['to', 0.02388095454567341], ['he', 0.018027027937970504], ['his', 0.017639350679182233], ['in', 0.017096602516878653], ['was', 0.014266558527724271], ['oliver', 0.01178542407147933]]\n",
            "\n",
            "Most common bigrams:  [[('said', 'the'), 0.003487681090384913], [('the', 'old'), 0.0020926228100734672], [('the', 'undertaker'), 0.0017438582399956061], [('old', 'gentleman'), 0.0016663550022005258], [('the', 'boy'), 0.0014338452888152848], [('the', 'jew'), 0.0013950936699177446], [('the', 'gentleman'), 0.0013175904321226643], [('the', 'beadle'), 0.0012013355754300439], [('oliver', 's'), 0.0011238323376349636], [('oliver', 'twist'), 0.0010850807187374235]]\n",
            "\n",
            "Most common trigrams:  [[('the', 'old', 'gentleman'), 0.001317310064948046], [('gentleman', 'in', 'the'), 0.0008911329616658561], [('the', 'gentleman', 'in'), 0.0008136462156145488], [('the', 'white', 'waistcoat'), 0.0007749028425888952], [('in', 'the', 'white'), 0.0006974160965375879], [('said', 'the', 'undertaker'), 0.0006586727235119343], [('said', 'the', 'gentleman'), 0.000581185977460627], [('said', 'the', 'jew'), 0.0005424426044349734], [('sir', 'replied', 'oliver'), 0.0004649558583836661], [('my', 'dear', 'said'), 0.0004262124853580125]]\n"
          ]
        }
      ],
      "metadata": {}
    },
    {
      "cell_type": "code",
      "execution_count": 102,
      "source": [
        "token_1 = word_tokenize(testSent1)\r\n",
        "token_2 = word_tokenize(testSent2)\r\n",
        "token_3 = word_tokenize(testSent3)\r\n",
        "ngram_1 = {1:[], 2:[], 3:[]}   #to store the n-grams formed  \r\n",
        "ngram_2 = {1:[], 2:[], 3:[]}\r\n",
        "for i in range(3):\r\n",
        "    ngram_1[i+1] = list(ngrams(token_1, i+1))[-1]\r\n",
        "    ngram_2[i+1] = list(ngrams(token_2, i+1))[-1]\r\n",
        "print(\"String 1: \", ngram_1,\"\\nString 2: \",ngram_2)"
      ],
      "outputs": [
        {
          "output_type": "stream",
          "name": "stdout",
          "text": [
            "String 1:  {1: ('he',), 2: ('there', 'he'), 3: ('and', 'there', 'he')} \n",
            "String 2:  {1: ('down',), 2: ('sat', 'down'), 3: ('he', 'sat', 'down')}\n"
          ]
        }
      ],
      "metadata": {}
    },
    {
      "cell_type": "code",
      "execution_count": 107,
      "source": [
        "def predict(testSent1):\r\n",
        "    ngram_1 = {1:[], 2:[], 3:[]}   #to store the n-grams formed\r\n",
        "    token_1 = word_tokenize(testSent1)\r\n",
        "    for i in range(3):\r\n",
        "        ngram_1[i+1] = list(ngrams(token_1, i+1))[-1]\r\n",
        "    for i in range(3):\r\n",
        "        ngrams_prob[i+1] = sorted(ngrams_prob[i+1], key = lambda x:x[1], reverse = True)\r\n",
        "        \r\n",
        "    pred_1 = {1:[], 2:[]}\r\n",
        "    for i in range(2):\r\n",
        "        count = 0\r\n",
        "        for each in ngrams_prob[i+2]:\r\n",
        "            if each[0][:-1] == ngram_1[i+1]:      \r\n",
        "    #to find predictions based on highest probability of n-grams  \r\n",
        "                    \r\n",
        "                count +=1\r\n",
        "                pred_1[i+1].append(each[0][-1])\r\n",
        "                if count ==5:\r\n",
        "                    break\r\n",
        "        if count<5:\r\n",
        "            while(count!=5):\r\n",
        "                pred_1[i+1].append(\"NOT FOUND\")           \r\n",
        "    #if no word prediction is found, replace with NOT FOUND\r\n",
        "                count +=1\r\n",
        "\r\n",
        "    return pred_1\r\n",
        "# for i in range(3):\r\n",
        "#     ngrams_prob[i+1] = sorted(ngrams_prob[i+1], key = lambda x:x[1], reverse = True)\r\n",
        "    \r\n",
        "# pred_2 = {1:[], 2:[]}\r\n",
        "# for i in range(2):\r\n",
        "#     count = 0\r\n",
        "#     for each in ngrams_prob[i+2]:\r\n",
        "#         if each[0][:-1] == ngram_2[i+1]:\r\n",
        "#             count +=1\r\n",
        "#             pred_2[i+1].append(each[0][-1])\r\n",
        "#             if count ==5:\r\n",
        "#                 break\r\n",
        "#     if count<5:\r\n",
        "#         while(count!=5):\r\n",
        "#             pred_2[i+1].append(\"\\0\")\r\n",
        "#             count +=1"
      ],
      "outputs": [],
      "metadata": {}
    },
    {
      "cell_type": "code",
      "execution_count": 115,
      "source": [
        "def get3(testSent):\r\n",
        "    testSentB=testSent\r\n",
        "    testSentT=testSentB\r\n",
        "    for i in range(3):\r\n",
        "        ans=predict(testSentB)\r\n",
        "        testSentB=testSentB+\" \"+ans[1][0]\r\n",
        "    for i in range(3):\r\n",
        "        ans2=predict(testSentT)\r\n",
        "        testSentT=testSentT+\" \"+ans2[2][0]\r\n",
        "    print(\"Bigram model predictions:\\n\",testSentB,\"\\nTrigram model predictions:\\n\",testSentT)"
      ],
      "outputs": [],
      "metadata": {}
    },
    {
      "cell_type": "code",
      "execution_count": 120,
      "source": [
        "print('\\nSentence 1:',testSent1,'\\n')\r\n",
        "get3(testSent1)\r\n",
        "print('\\nSentence 2:',testSent2,'\\n')\r\n",
        "get3(testSent2)\r\n",
        "print('\\nSentence 3:',testSent3,'\\n')\r\n",
        "get3(testSent3)\r\n",
        "print('\\n')"
      ],
      "outputs": [
        {
          "output_type": "stream",
          "name": "stdout",
          "text": [
            "\n",
            "Sentence 1: There was a sudden jerk, a terrific convulsion of the limbs; and there he \n",
            "\n",
            "Bigram model predictions:\n",
            " There was a sudden jerk, a terrific convulsion of the limbs; and there he would have known \n",
            "Trigram model predictions:\n",
            " There was a sudden jerk, a terrific convulsion of the limbs; and there he sat down to\n",
            "\n",
            "Sentence 2: They made room for the stranger, but he sat down \n",
            "\n",
            "Bigram model predictions:\n",
            " They made room for the stranger, but he sat down upon the old \n",
            "Trigram model predictions:\n",
            " They made room for the stranger, but he sat down to earth again\n",
            "\n",
            "Sentence 3: The hungry and destitute situation of the infant orphan was duly reported by \n",
            "\n",
            "Bigram model predictions:\n",
            " The hungry and destitute situation of the infant orphan was duly reported by bumble s face \n",
            "Trigram model predictions:\n",
            " The hungry and destitute situation of the infant orphan was duly reported by the side of\n",
            "\n",
            "\n"
          ]
        }
      ],
      "metadata": {}
    },
    {
      "cell_type": "markdown",
      "source": [
        "Check the presence of these sentences in the original corpus at https://www.gutenberg.org/files/730/730-0.txt . How did your smoothed models perform in comparison to the original sentences? Compare them below.\n",
        "\n",
        "Did you notice something special about testSent3, in comparison to testSent1 and testSent2? If yes, what is it? Can you explain it?\n",
        "\n"
      ],
      "metadata": {
        "id": "rxfeaacTdO6h"
      }
    },
    {
      "cell_type": "markdown",
      "source": [
        "  - - - - - - - - - -\r\n",
        "  ** Answer here ** \r\n",
        "   - - - - - - - - - -\r\n",
        "  \r\n",
        "Our model does not predict the exact sentences in the given text as it focusses only on the last bigram or last trigram and does not get context from the rest of the text. Still, it predicts reasonable continuations which are more or less grammatically correct.\r\n",
        "\r\n",
        "In test sentence 3 of the original corpus, the exact sentence is present within the training data itself. Still the model is not able to get the exact continuation. Although it still gives an gramatically accurate continuation.\r\n",
        "   "
      ],
      "metadata": {
        "id": "nFMkW9hKecxK"
      }
    },
    {
      "cell_type": "markdown",
      "source": [
        "Which of the three models you generated above (unigram, bigram, trigram) is better in terms of **perplexity**, for the three test sentences (unseen data)? Write a piece of code to justify your answer. "
      ],
      "metadata": {
        "id": "vVBMcaAJXR9S"
      }
    },
    {
      "cell_type": "markdown",
      "source": [
        "  - - - - - - - - - -\r\n",
        "  ** Answer here ** \r\n",
        "   - - - - - - - - - -\r\n",
        "The trigram model is better as it has a lower perplexity. As the trigram model takes in an extra word, we expect a better output from it. The same is observed as the prediction in sentence 2. \r\n",
        "The bigram model predicts 'sat down upon the old' which is less meaningful than 'sat down to earth again' as predicted by the trigram model."
      ],
      "metadata": {
        "id": "AAPa1OVZX8uN"
      }
    }
  ]
}