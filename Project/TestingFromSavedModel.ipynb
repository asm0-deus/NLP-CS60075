{
  "nbformat": 4,
  "nbformat_minor": 0,
  "metadata": {
    "colab": {
      "name": "fromsaved.ipynb",
      "provenance": [],
      "collapsed_sections": []
    },
    "kernelspec": {
      "name": "python3",
      "display_name": "Python 3"
    },
    "language_info": {
      "name": "python"
    },
    "accelerator": "GPU",
    "widgets": {
      "application/vnd.jupyter.widget-state+json": {
        "8172a6ba92c24a4393221ebf7b8857af": {
          "model_module": "@jupyter-widgets/controls",
          "model_name": "HBoxModel",
          "model_module_version": "1.5.0",
          "state": {
            "_view_name": "HBoxView",
            "_dom_classes": [],
            "_model_name": "HBoxModel",
            "_view_module": "@jupyter-widgets/controls",
            "_model_module_version": "1.5.0",
            "_view_count": null,
            "_view_module_version": "1.5.0",
            "box_style": "",
            "layout": "IPY_MODEL_4c120176a0684298b31c1c749b7ffa9c",
            "_model_module": "@jupyter-widgets/controls",
            "children": [
              "IPY_MODEL_e2d7bde6209f485ea7fecd0e4c878c35",
              "IPY_MODEL_97d752fe76504717848a0883e6425527",
              "IPY_MODEL_971cd94775c947ba8e3e6c2d8ac07046"
            ]
          }
        },
        "4c120176a0684298b31c1c749b7ffa9c": {
          "model_module": "@jupyter-widgets/base",
          "model_name": "LayoutModel",
          "model_module_version": "1.2.0",
          "state": {
            "_view_name": "LayoutView",
            "grid_template_rows": null,
            "right": null,
            "justify_content": null,
            "_view_module": "@jupyter-widgets/base",
            "overflow": null,
            "_model_module_version": "1.2.0",
            "_view_count": null,
            "flex_flow": null,
            "width": null,
            "min_width": null,
            "border": null,
            "align_items": null,
            "bottom": null,
            "_model_module": "@jupyter-widgets/base",
            "top": null,
            "grid_column": null,
            "overflow_y": null,
            "overflow_x": null,
            "grid_auto_flow": null,
            "grid_area": null,
            "grid_template_columns": null,
            "flex": null,
            "_model_name": "LayoutModel",
            "justify_items": null,
            "grid_row": null,
            "max_height": null,
            "align_content": null,
            "visibility": null,
            "align_self": null,
            "height": null,
            "min_height": null,
            "padding": null,
            "grid_auto_rows": null,
            "grid_gap": null,
            "max_width": null,
            "order": null,
            "_view_module_version": "1.2.0",
            "grid_template_areas": null,
            "object_position": null,
            "object_fit": null,
            "grid_auto_columns": null,
            "margin": null,
            "display": null,
            "left": null
          }
        },
        "e2d7bde6209f485ea7fecd0e4c878c35": {
          "model_module": "@jupyter-widgets/controls",
          "model_name": "HTMLModel",
          "model_module_version": "1.5.0",
          "state": {
            "_view_name": "HTMLView",
            "style": "IPY_MODEL_db9a4b4883374a009b87613f6a84f6fa",
            "_dom_classes": [],
            "description": "",
            "_model_name": "HTMLModel",
            "placeholder": "​",
            "_view_module": "@jupyter-widgets/controls",
            "_model_module_version": "1.5.0",
            "value": "Downloading: 100%",
            "_view_count": null,
            "_view_module_version": "1.5.0",
            "description_tooltip": null,
            "_model_module": "@jupyter-widgets/controls",
            "layout": "IPY_MODEL_c5f7878d02164f5780e2ad96a0fe04e4"
          }
        },
        "97d752fe76504717848a0883e6425527": {
          "model_module": "@jupyter-widgets/controls",
          "model_name": "FloatProgressModel",
          "model_module_version": "1.5.0",
          "state": {
            "_view_name": "ProgressView",
            "style": "IPY_MODEL_42c34c38c60c4ff5bf6caadebf090dc2",
            "_dom_classes": [],
            "description": "",
            "_model_name": "FloatProgressModel",
            "bar_style": "success",
            "max": 231508,
            "_view_module": "@jupyter-widgets/controls",
            "_model_module_version": "1.5.0",
            "value": 231508,
            "_view_count": null,
            "_view_module_version": "1.5.0",
            "orientation": "horizontal",
            "min": 0,
            "description_tooltip": null,
            "_model_module": "@jupyter-widgets/controls",
            "layout": "IPY_MODEL_ab82f394326443e487092c007b27df3a"
          }
        },
        "971cd94775c947ba8e3e6c2d8ac07046": {
          "model_module": "@jupyter-widgets/controls",
          "model_name": "HTMLModel",
          "model_module_version": "1.5.0",
          "state": {
            "_view_name": "HTMLView",
            "style": "IPY_MODEL_b287dcf30c3547699dbca0f896c2571e",
            "_dom_classes": [],
            "description": "",
            "_model_name": "HTMLModel",
            "placeholder": "​",
            "_view_module": "@jupyter-widgets/controls",
            "_model_module_version": "1.5.0",
            "value": " 226k/226k [00:00&lt;00:00, 615kB/s]",
            "_view_count": null,
            "_view_module_version": "1.5.0",
            "description_tooltip": null,
            "_model_module": "@jupyter-widgets/controls",
            "layout": "IPY_MODEL_9b4cd92d91294d83be186d1a4cd0ad32"
          }
        },
        "db9a4b4883374a009b87613f6a84f6fa": {
          "model_module": "@jupyter-widgets/controls",
          "model_name": "DescriptionStyleModel",
          "model_module_version": "1.5.0",
          "state": {
            "_view_name": "StyleView",
            "_model_name": "DescriptionStyleModel",
            "description_width": "",
            "_view_module": "@jupyter-widgets/base",
            "_model_module_version": "1.5.0",
            "_view_count": null,
            "_view_module_version": "1.2.0",
            "_model_module": "@jupyter-widgets/controls"
          }
        },
        "c5f7878d02164f5780e2ad96a0fe04e4": {
          "model_module": "@jupyter-widgets/base",
          "model_name": "LayoutModel",
          "model_module_version": "1.2.0",
          "state": {
            "_view_name": "LayoutView",
            "grid_template_rows": null,
            "right": null,
            "justify_content": null,
            "_view_module": "@jupyter-widgets/base",
            "overflow": null,
            "_model_module_version": "1.2.0",
            "_view_count": null,
            "flex_flow": null,
            "width": null,
            "min_width": null,
            "border": null,
            "align_items": null,
            "bottom": null,
            "_model_module": "@jupyter-widgets/base",
            "top": null,
            "grid_column": null,
            "overflow_y": null,
            "overflow_x": null,
            "grid_auto_flow": null,
            "grid_area": null,
            "grid_template_columns": null,
            "flex": null,
            "_model_name": "LayoutModel",
            "justify_items": null,
            "grid_row": null,
            "max_height": null,
            "align_content": null,
            "visibility": null,
            "align_self": null,
            "height": null,
            "min_height": null,
            "padding": null,
            "grid_auto_rows": null,
            "grid_gap": null,
            "max_width": null,
            "order": null,
            "_view_module_version": "1.2.0",
            "grid_template_areas": null,
            "object_position": null,
            "object_fit": null,
            "grid_auto_columns": null,
            "margin": null,
            "display": null,
            "left": null
          }
        },
        "42c34c38c60c4ff5bf6caadebf090dc2": {
          "model_module": "@jupyter-widgets/controls",
          "model_name": "ProgressStyleModel",
          "model_module_version": "1.5.0",
          "state": {
            "_view_name": "StyleView",
            "_model_name": "ProgressStyleModel",
            "description_width": "",
            "_view_module": "@jupyter-widgets/base",
            "_model_module_version": "1.5.0",
            "_view_count": null,
            "_view_module_version": "1.2.0",
            "bar_color": null,
            "_model_module": "@jupyter-widgets/controls"
          }
        },
        "ab82f394326443e487092c007b27df3a": {
          "model_module": "@jupyter-widgets/base",
          "model_name": "LayoutModel",
          "model_module_version": "1.2.0",
          "state": {
            "_view_name": "LayoutView",
            "grid_template_rows": null,
            "right": null,
            "justify_content": null,
            "_view_module": "@jupyter-widgets/base",
            "overflow": null,
            "_model_module_version": "1.2.0",
            "_view_count": null,
            "flex_flow": null,
            "width": null,
            "min_width": null,
            "border": null,
            "align_items": null,
            "bottom": null,
            "_model_module": "@jupyter-widgets/base",
            "top": null,
            "grid_column": null,
            "overflow_y": null,
            "overflow_x": null,
            "grid_auto_flow": null,
            "grid_area": null,
            "grid_template_columns": null,
            "flex": null,
            "_model_name": "LayoutModel",
            "justify_items": null,
            "grid_row": null,
            "max_height": null,
            "align_content": null,
            "visibility": null,
            "align_self": null,
            "height": null,
            "min_height": null,
            "padding": null,
            "grid_auto_rows": null,
            "grid_gap": null,
            "max_width": null,
            "order": null,
            "_view_module_version": "1.2.0",
            "grid_template_areas": null,
            "object_position": null,
            "object_fit": null,
            "grid_auto_columns": null,
            "margin": null,
            "display": null,
            "left": null
          }
        },
        "b287dcf30c3547699dbca0f896c2571e": {
          "model_module": "@jupyter-widgets/controls",
          "model_name": "DescriptionStyleModel",
          "model_module_version": "1.5.0",
          "state": {
            "_view_name": "StyleView",
            "_model_name": "DescriptionStyleModel",
            "description_width": "",
            "_view_module": "@jupyter-widgets/base",
            "_model_module_version": "1.5.0",
            "_view_count": null,
            "_view_module_version": "1.2.0",
            "_model_module": "@jupyter-widgets/controls"
          }
        },
        "9b4cd92d91294d83be186d1a4cd0ad32": {
          "model_module": "@jupyter-widgets/base",
          "model_name": "LayoutModel",
          "model_module_version": "1.2.0",
          "state": {
            "_view_name": "LayoutView",
            "grid_template_rows": null,
            "right": null,
            "justify_content": null,
            "_view_module": "@jupyter-widgets/base",
            "overflow": null,
            "_model_module_version": "1.2.0",
            "_view_count": null,
            "flex_flow": null,
            "width": null,
            "min_width": null,
            "border": null,
            "align_items": null,
            "bottom": null,
            "_model_module": "@jupyter-widgets/base",
            "top": null,
            "grid_column": null,
            "overflow_y": null,
            "overflow_x": null,
            "grid_auto_flow": null,
            "grid_area": null,
            "grid_template_columns": null,
            "flex": null,
            "_model_name": "LayoutModel",
            "justify_items": null,
            "grid_row": null,
            "max_height": null,
            "align_content": null,
            "visibility": null,
            "align_self": null,
            "height": null,
            "min_height": null,
            "padding": null,
            "grid_auto_rows": null,
            "grid_gap": null,
            "max_width": null,
            "order": null,
            "_view_module_version": "1.2.0",
            "grid_template_areas": null,
            "object_position": null,
            "object_fit": null,
            "grid_auto_columns": null,
            "margin": null,
            "display": null,
            "left": null
          }
        },
        "f30fb489c92f4f5c85e462268951114a": {
          "model_module": "@jupyter-widgets/controls",
          "model_name": "HBoxModel",
          "model_module_version": "1.5.0",
          "state": {
            "_view_name": "HBoxView",
            "_dom_classes": [],
            "_model_name": "HBoxModel",
            "_view_module": "@jupyter-widgets/controls",
            "_model_module_version": "1.5.0",
            "_view_count": null,
            "_view_module_version": "1.5.0",
            "box_style": "",
            "layout": "IPY_MODEL_ab7d4c5f69d64528a1ccf20fc126650f",
            "_model_module": "@jupyter-widgets/controls",
            "children": [
              "IPY_MODEL_efb75b4a6e7f44de91c85b6109d7c682",
              "IPY_MODEL_424d3d774160443ab55edcb069e29c43",
              "IPY_MODEL_b3929354da0345248355d424970dabcd"
            ]
          }
        },
        "ab7d4c5f69d64528a1ccf20fc126650f": {
          "model_module": "@jupyter-widgets/base",
          "model_name": "LayoutModel",
          "model_module_version": "1.2.0",
          "state": {
            "_view_name": "LayoutView",
            "grid_template_rows": null,
            "right": null,
            "justify_content": null,
            "_view_module": "@jupyter-widgets/base",
            "overflow": null,
            "_model_module_version": "1.2.0",
            "_view_count": null,
            "flex_flow": null,
            "width": null,
            "min_width": null,
            "border": null,
            "align_items": null,
            "bottom": null,
            "_model_module": "@jupyter-widgets/base",
            "top": null,
            "grid_column": null,
            "overflow_y": null,
            "overflow_x": null,
            "grid_auto_flow": null,
            "grid_area": null,
            "grid_template_columns": null,
            "flex": null,
            "_model_name": "LayoutModel",
            "justify_items": null,
            "grid_row": null,
            "max_height": null,
            "align_content": null,
            "visibility": null,
            "align_self": null,
            "height": null,
            "min_height": null,
            "padding": null,
            "grid_auto_rows": null,
            "grid_gap": null,
            "max_width": null,
            "order": null,
            "_view_module_version": "1.2.0",
            "grid_template_areas": null,
            "object_position": null,
            "object_fit": null,
            "grid_auto_columns": null,
            "margin": null,
            "display": null,
            "left": null
          }
        },
        "efb75b4a6e7f44de91c85b6109d7c682": {
          "model_module": "@jupyter-widgets/controls",
          "model_name": "HTMLModel",
          "model_module_version": "1.5.0",
          "state": {
            "_view_name": "HTMLView",
            "style": "IPY_MODEL_116c358a6dcf4237b37551b14e7d0229",
            "_dom_classes": [],
            "description": "",
            "_model_name": "HTMLModel",
            "placeholder": "​",
            "_view_module": "@jupyter-widgets/controls",
            "_model_module_version": "1.5.0",
            "value": "Downloading: 100%",
            "_view_count": null,
            "_view_module_version": "1.5.0",
            "description_tooltip": null,
            "_model_module": "@jupyter-widgets/controls",
            "layout": "IPY_MODEL_08553968196d477493eeca6b0901a0f6"
          }
        },
        "424d3d774160443ab55edcb069e29c43": {
          "model_module": "@jupyter-widgets/controls",
          "model_name": "FloatProgressModel",
          "model_module_version": "1.5.0",
          "state": {
            "_view_name": "ProgressView",
            "style": "IPY_MODEL_ddf4d6392a1b4b2bb26f69f27ff63915",
            "_dom_classes": [],
            "description": "",
            "_model_name": "FloatProgressModel",
            "bar_style": "success",
            "max": 28,
            "_view_module": "@jupyter-widgets/controls",
            "_model_module_version": "1.5.0",
            "value": 28,
            "_view_count": null,
            "_view_module_version": "1.5.0",
            "orientation": "horizontal",
            "min": 0,
            "description_tooltip": null,
            "_model_module": "@jupyter-widgets/controls",
            "layout": "IPY_MODEL_55a8d548aed84d529f3429fb1673f490"
          }
        },
        "b3929354da0345248355d424970dabcd": {
          "model_module": "@jupyter-widgets/controls",
          "model_name": "HTMLModel",
          "model_module_version": "1.5.0",
          "state": {
            "_view_name": "HTMLView",
            "style": "IPY_MODEL_1b300a8818904f5db8c5e46b13bc9aea",
            "_dom_classes": [],
            "description": "",
            "_model_name": "HTMLModel",
            "placeholder": "​",
            "_view_module": "@jupyter-widgets/controls",
            "_model_module_version": "1.5.0",
            "value": " 28.0/28.0 [00:00&lt;00:00, 562B/s]",
            "_view_count": null,
            "_view_module_version": "1.5.0",
            "description_tooltip": null,
            "_model_module": "@jupyter-widgets/controls",
            "layout": "IPY_MODEL_058a2daac7ec42da866a1b9881703911"
          }
        },
        "116c358a6dcf4237b37551b14e7d0229": {
          "model_module": "@jupyter-widgets/controls",
          "model_name": "DescriptionStyleModel",
          "model_module_version": "1.5.0",
          "state": {
            "_view_name": "StyleView",
            "_model_name": "DescriptionStyleModel",
            "description_width": "",
            "_view_module": "@jupyter-widgets/base",
            "_model_module_version": "1.5.0",
            "_view_count": null,
            "_view_module_version": "1.2.0",
            "_model_module": "@jupyter-widgets/controls"
          }
        },
        "08553968196d477493eeca6b0901a0f6": {
          "model_module": "@jupyter-widgets/base",
          "model_name": "LayoutModel",
          "model_module_version": "1.2.0",
          "state": {
            "_view_name": "LayoutView",
            "grid_template_rows": null,
            "right": null,
            "justify_content": null,
            "_view_module": "@jupyter-widgets/base",
            "overflow": null,
            "_model_module_version": "1.2.0",
            "_view_count": null,
            "flex_flow": null,
            "width": null,
            "min_width": null,
            "border": null,
            "align_items": null,
            "bottom": null,
            "_model_module": "@jupyter-widgets/base",
            "top": null,
            "grid_column": null,
            "overflow_y": null,
            "overflow_x": null,
            "grid_auto_flow": null,
            "grid_area": null,
            "grid_template_columns": null,
            "flex": null,
            "_model_name": "LayoutModel",
            "justify_items": null,
            "grid_row": null,
            "max_height": null,
            "align_content": null,
            "visibility": null,
            "align_self": null,
            "height": null,
            "min_height": null,
            "padding": null,
            "grid_auto_rows": null,
            "grid_gap": null,
            "max_width": null,
            "order": null,
            "_view_module_version": "1.2.0",
            "grid_template_areas": null,
            "object_position": null,
            "object_fit": null,
            "grid_auto_columns": null,
            "margin": null,
            "display": null,
            "left": null
          }
        },
        "ddf4d6392a1b4b2bb26f69f27ff63915": {
          "model_module": "@jupyter-widgets/controls",
          "model_name": "ProgressStyleModel",
          "model_module_version": "1.5.0",
          "state": {
            "_view_name": "StyleView",
            "_model_name": "ProgressStyleModel",
            "description_width": "",
            "_view_module": "@jupyter-widgets/base",
            "_model_module_version": "1.5.0",
            "_view_count": null,
            "_view_module_version": "1.2.0",
            "bar_color": null,
            "_model_module": "@jupyter-widgets/controls"
          }
        },
        "55a8d548aed84d529f3429fb1673f490": {
          "model_module": "@jupyter-widgets/base",
          "model_name": "LayoutModel",
          "model_module_version": "1.2.0",
          "state": {
            "_view_name": "LayoutView",
            "grid_template_rows": null,
            "right": null,
            "justify_content": null,
            "_view_module": "@jupyter-widgets/base",
            "overflow": null,
            "_model_module_version": "1.2.0",
            "_view_count": null,
            "flex_flow": null,
            "width": null,
            "min_width": null,
            "border": null,
            "align_items": null,
            "bottom": null,
            "_model_module": "@jupyter-widgets/base",
            "top": null,
            "grid_column": null,
            "overflow_y": null,
            "overflow_x": null,
            "grid_auto_flow": null,
            "grid_area": null,
            "grid_template_columns": null,
            "flex": null,
            "_model_name": "LayoutModel",
            "justify_items": null,
            "grid_row": null,
            "max_height": null,
            "align_content": null,
            "visibility": null,
            "align_self": null,
            "height": null,
            "min_height": null,
            "padding": null,
            "grid_auto_rows": null,
            "grid_gap": null,
            "max_width": null,
            "order": null,
            "_view_module_version": "1.2.0",
            "grid_template_areas": null,
            "object_position": null,
            "object_fit": null,
            "grid_auto_columns": null,
            "margin": null,
            "display": null,
            "left": null
          }
        },
        "1b300a8818904f5db8c5e46b13bc9aea": {
          "model_module": "@jupyter-widgets/controls",
          "model_name": "DescriptionStyleModel",
          "model_module_version": "1.5.0",
          "state": {
            "_view_name": "StyleView",
            "_model_name": "DescriptionStyleModel",
            "description_width": "",
            "_view_module": "@jupyter-widgets/base",
            "_model_module_version": "1.5.0",
            "_view_count": null,
            "_view_module_version": "1.2.0",
            "_model_module": "@jupyter-widgets/controls"
          }
        },
        "058a2daac7ec42da866a1b9881703911": {
          "model_module": "@jupyter-widgets/base",
          "model_name": "LayoutModel",
          "model_module_version": "1.2.0",
          "state": {
            "_view_name": "LayoutView",
            "grid_template_rows": null,
            "right": null,
            "justify_content": null,
            "_view_module": "@jupyter-widgets/base",
            "overflow": null,
            "_model_module_version": "1.2.0",
            "_view_count": null,
            "flex_flow": null,
            "width": null,
            "min_width": null,
            "border": null,
            "align_items": null,
            "bottom": null,
            "_model_module": "@jupyter-widgets/base",
            "top": null,
            "grid_column": null,
            "overflow_y": null,
            "overflow_x": null,
            "grid_auto_flow": null,
            "grid_area": null,
            "grid_template_columns": null,
            "flex": null,
            "_model_name": "LayoutModel",
            "justify_items": null,
            "grid_row": null,
            "max_height": null,
            "align_content": null,
            "visibility": null,
            "align_self": null,
            "height": null,
            "min_height": null,
            "padding": null,
            "grid_auto_rows": null,
            "grid_gap": null,
            "max_width": null,
            "order": null,
            "_view_module_version": "1.2.0",
            "grid_template_areas": null,
            "object_position": null,
            "object_fit": null,
            "grid_auto_columns": null,
            "margin": null,
            "display": null,
            "left": null
          }
        },
        "e00b479b3c1347128fc62cd38e3eb7f3": {
          "model_module": "@jupyter-widgets/controls",
          "model_name": "HBoxModel",
          "model_module_version": "1.5.0",
          "state": {
            "_view_name": "HBoxView",
            "_dom_classes": [],
            "_model_name": "HBoxModel",
            "_view_module": "@jupyter-widgets/controls",
            "_model_module_version": "1.5.0",
            "_view_count": null,
            "_view_module_version": "1.5.0",
            "box_style": "",
            "layout": "IPY_MODEL_8f0519bbb36b45429803292a777b363d",
            "_model_module": "@jupyter-widgets/controls",
            "children": [
              "IPY_MODEL_9c9affe0f8ac447e8d22d4eb015edea3",
              "IPY_MODEL_49992230ca7a405c98107362bbe5a3e8",
              "IPY_MODEL_56ab310f4c1d4c54a45120cd7290b91b"
            ]
          }
        },
        "8f0519bbb36b45429803292a777b363d": {
          "model_module": "@jupyter-widgets/base",
          "model_name": "LayoutModel",
          "model_module_version": "1.2.0",
          "state": {
            "_view_name": "LayoutView",
            "grid_template_rows": null,
            "right": null,
            "justify_content": null,
            "_view_module": "@jupyter-widgets/base",
            "overflow": null,
            "_model_module_version": "1.2.0",
            "_view_count": null,
            "flex_flow": null,
            "width": null,
            "min_width": null,
            "border": null,
            "align_items": null,
            "bottom": null,
            "_model_module": "@jupyter-widgets/base",
            "top": null,
            "grid_column": null,
            "overflow_y": null,
            "overflow_x": null,
            "grid_auto_flow": null,
            "grid_area": null,
            "grid_template_columns": null,
            "flex": null,
            "_model_name": "LayoutModel",
            "justify_items": null,
            "grid_row": null,
            "max_height": null,
            "align_content": null,
            "visibility": null,
            "align_self": null,
            "height": null,
            "min_height": null,
            "padding": null,
            "grid_auto_rows": null,
            "grid_gap": null,
            "max_width": null,
            "order": null,
            "_view_module_version": "1.2.0",
            "grid_template_areas": null,
            "object_position": null,
            "object_fit": null,
            "grid_auto_columns": null,
            "margin": null,
            "display": null,
            "left": null
          }
        },
        "9c9affe0f8ac447e8d22d4eb015edea3": {
          "model_module": "@jupyter-widgets/controls",
          "model_name": "HTMLModel",
          "model_module_version": "1.5.0",
          "state": {
            "_view_name": "HTMLView",
            "style": "IPY_MODEL_b2a331b8da414c0fa508e32fce3a5643",
            "_dom_classes": [],
            "description": "",
            "_model_name": "HTMLModel",
            "placeholder": "​",
            "_view_module": "@jupyter-widgets/controls",
            "_model_module_version": "1.5.0",
            "value": "Downloading: 100%",
            "_view_count": null,
            "_view_module_version": "1.5.0",
            "description_tooltip": null,
            "_model_module": "@jupyter-widgets/controls",
            "layout": "IPY_MODEL_205b2313e89942368dba48dfe596efd1"
          }
        },
        "49992230ca7a405c98107362bbe5a3e8": {
          "model_module": "@jupyter-widgets/controls",
          "model_name": "FloatProgressModel",
          "model_module_version": "1.5.0",
          "state": {
            "_view_name": "ProgressView",
            "style": "IPY_MODEL_bc2eac9b58f448e6a8dc945448a89f25",
            "_dom_classes": [],
            "description": "",
            "_model_name": "FloatProgressModel",
            "bar_style": "success",
            "max": 466062,
            "_view_module": "@jupyter-widgets/controls",
            "_model_module_version": "1.5.0",
            "value": 466062,
            "_view_count": null,
            "_view_module_version": "1.5.0",
            "orientation": "horizontal",
            "min": 0,
            "description_tooltip": null,
            "_model_module": "@jupyter-widgets/controls",
            "layout": "IPY_MODEL_cc53b28836584708bb020c3862389929"
          }
        },
        "56ab310f4c1d4c54a45120cd7290b91b": {
          "model_module": "@jupyter-widgets/controls",
          "model_name": "HTMLModel",
          "model_module_version": "1.5.0",
          "state": {
            "_view_name": "HTMLView",
            "style": "IPY_MODEL_570b1c6f58e34e40a413a5242381f6d9",
            "_dom_classes": [],
            "description": "",
            "_model_name": "HTMLModel",
            "placeholder": "​",
            "_view_module": "@jupyter-widgets/controls",
            "_model_module_version": "1.5.0",
            "value": " 455k/455k [00:00&lt;00:00, 979kB/s]",
            "_view_count": null,
            "_view_module_version": "1.5.0",
            "description_tooltip": null,
            "_model_module": "@jupyter-widgets/controls",
            "layout": "IPY_MODEL_b21bb99dd7a7485093f7e2a0b8efc2f8"
          }
        },
        "b2a331b8da414c0fa508e32fce3a5643": {
          "model_module": "@jupyter-widgets/controls",
          "model_name": "DescriptionStyleModel",
          "model_module_version": "1.5.0",
          "state": {
            "_view_name": "StyleView",
            "_model_name": "DescriptionStyleModel",
            "description_width": "",
            "_view_module": "@jupyter-widgets/base",
            "_model_module_version": "1.5.0",
            "_view_count": null,
            "_view_module_version": "1.2.0",
            "_model_module": "@jupyter-widgets/controls"
          }
        },
        "205b2313e89942368dba48dfe596efd1": {
          "model_module": "@jupyter-widgets/base",
          "model_name": "LayoutModel",
          "model_module_version": "1.2.0",
          "state": {
            "_view_name": "LayoutView",
            "grid_template_rows": null,
            "right": null,
            "justify_content": null,
            "_view_module": "@jupyter-widgets/base",
            "overflow": null,
            "_model_module_version": "1.2.0",
            "_view_count": null,
            "flex_flow": null,
            "width": null,
            "min_width": null,
            "border": null,
            "align_items": null,
            "bottom": null,
            "_model_module": "@jupyter-widgets/base",
            "top": null,
            "grid_column": null,
            "overflow_y": null,
            "overflow_x": null,
            "grid_auto_flow": null,
            "grid_area": null,
            "grid_template_columns": null,
            "flex": null,
            "_model_name": "LayoutModel",
            "justify_items": null,
            "grid_row": null,
            "max_height": null,
            "align_content": null,
            "visibility": null,
            "align_self": null,
            "height": null,
            "min_height": null,
            "padding": null,
            "grid_auto_rows": null,
            "grid_gap": null,
            "max_width": null,
            "order": null,
            "_view_module_version": "1.2.0",
            "grid_template_areas": null,
            "object_position": null,
            "object_fit": null,
            "grid_auto_columns": null,
            "margin": null,
            "display": null,
            "left": null
          }
        },
        "bc2eac9b58f448e6a8dc945448a89f25": {
          "model_module": "@jupyter-widgets/controls",
          "model_name": "ProgressStyleModel",
          "model_module_version": "1.5.0",
          "state": {
            "_view_name": "StyleView",
            "_model_name": "ProgressStyleModel",
            "description_width": "",
            "_view_module": "@jupyter-widgets/base",
            "_model_module_version": "1.5.0",
            "_view_count": null,
            "_view_module_version": "1.2.0",
            "bar_color": null,
            "_model_module": "@jupyter-widgets/controls"
          }
        },
        "cc53b28836584708bb020c3862389929": {
          "model_module": "@jupyter-widgets/base",
          "model_name": "LayoutModel",
          "model_module_version": "1.2.0",
          "state": {
            "_view_name": "LayoutView",
            "grid_template_rows": null,
            "right": null,
            "justify_content": null,
            "_view_module": "@jupyter-widgets/base",
            "overflow": null,
            "_model_module_version": "1.2.0",
            "_view_count": null,
            "flex_flow": null,
            "width": null,
            "min_width": null,
            "border": null,
            "align_items": null,
            "bottom": null,
            "_model_module": "@jupyter-widgets/base",
            "top": null,
            "grid_column": null,
            "overflow_y": null,
            "overflow_x": null,
            "grid_auto_flow": null,
            "grid_area": null,
            "grid_template_columns": null,
            "flex": null,
            "_model_name": "LayoutModel",
            "justify_items": null,
            "grid_row": null,
            "max_height": null,
            "align_content": null,
            "visibility": null,
            "align_self": null,
            "height": null,
            "min_height": null,
            "padding": null,
            "grid_auto_rows": null,
            "grid_gap": null,
            "max_width": null,
            "order": null,
            "_view_module_version": "1.2.0",
            "grid_template_areas": null,
            "object_position": null,
            "object_fit": null,
            "grid_auto_columns": null,
            "margin": null,
            "display": null,
            "left": null
          }
        },
        "570b1c6f58e34e40a413a5242381f6d9": {
          "model_module": "@jupyter-widgets/controls",
          "model_name": "DescriptionStyleModel",
          "model_module_version": "1.5.0",
          "state": {
            "_view_name": "StyleView",
            "_model_name": "DescriptionStyleModel",
            "description_width": "",
            "_view_module": "@jupyter-widgets/base",
            "_model_module_version": "1.5.0",
            "_view_count": null,
            "_view_module_version": "1.2.0",
            "_model_module": "@jupyter-widgets/controls"
          }
        },
        "b21bb99dd7a7485093f7e2a0b8efc2f8": {
          "model_module": "@jupyter-widgets/base",
          "model_name": "LayoutModel",
          "model_module_version": "1.2.0",
          "state": {
            "_view_name": "LayoutView",
            "grid_template_rows": null,
            "right": null,
            "justify_content": null,
            "_view_module": "@jupyter-widgets/base",
            "overflow": null,
            "_model_module_version": "1.2.0",
            "_view_count": null,
            "flex_flow": null,
            "width": null,
            "min_width": null,
            "border": null,
            "align_items": null,
            "bottom": null,
            "_model_module": "@jupyter-widgets/base",
            "top": null,
            "grid_column": null,
            "overflow_y": null,
            "overflow_x": null,
            "grid_auto_flow": null,
            "grid_area": null,
            "grid_template_columns": null,
            "flex": null,
            "_model_name": "LayoutModel",
            "justify_items": null,
            "grid_row": null,
            "max_height": null,
            "align_content": null,
            "visibility": null,
            "align_self": null,
            "height": null,
            "min_height": null,
            "padding": null,
            "grid_auto_rows": null,
            "grid_gap": null,
            "max_width": null,
            "order": null,
            "_view_module_version": "1.2.0",
            "grid_template_areas": null,
            "object_position": null,
            "object_fit": null,
            "grid_auto_columns": null,
            "margin": null,
            "display": null,
            "left": null
          }
        },
        "2ea02d99ea4c43ceb3ddf65aa6e33a34": {
          "model_module": "@jupyter-widgets/controls",
          "model_name": "HBoxModel",
          "model_module_version": "1.5.0",
          "state": {
            "_view_name": "HBoxView",
            "_dom_classes": [],
            "_model_name": "HBoxModel",
            "_view_module": "@jupyter-widgets/controls",
            "_model_module_version": "1.5.0",
            "_view_count": null,
            "_view_module_version": "1.5.0",
            "box_style": "",
            "layout": "IPY_MODEL_3801f96893464c0b93442ebb9fe89089",
            "_model_module": "@jupyter-widgets/controls",
            "children": [
              "IPY_MODEL_f59b637e2ce347f0adda1265cd329cb5",
              "IPY_MODEL_eeae0f10e1564436b97dfff168f97d64",
              "IPY_MODEL_8722b4305fc948439a636be9a9d65c82"
            ]
          }
        },
        "3801f96893464c0b93442ebb9fe89089": {
          "model_module": "@jupyter-widgets/base",
          "model_name": "LayoutModel",
          "model_module_version": "1.2.0",
          "state": {
            "_view_name": "LayoutView",
            "grid_template_rows": null,
            "right": null,
            "justify_content": null,
            "_view_module": "@jupyter-widgets/base",
            "overflow": null,
            "_model_module_version": "1.2.0",
            "_view_count": null,
            "flex_flow": null,
            "width": null,
            "min_width": null,
            "border": null,
            "align_items": null,
            "bottom": null,
            "_model_module": "@jupyter-widgets/base",
            "top": null,
            "grid_column": null,
            "overflow_y": null,
            "overflow_x": null,
            "grid_auto_flow": null,
            "grid_area": null,
            "grid_template_columns": null,
            "flex": null,
            "_model_name": "LayoutModel",
            "justify_items": null,
            "grid_row": null,
            "max_height": null,
            "align_content": null,
            "visibility": null,
            "align_self": null,
            "height": null,
            "min_height": null,
            "padding": null,
            "grid_auto_rows": null,
            "grid_gap": null,
            "max_width": null,
            "order": null,
            "_view_module_version": "1.2.0",
            "grid_template_areas": null,
            "object_position": null,
            "object_fit": null,
            "grid_auto_columns": null,
            "margin": null,
            "display": null,
            "left": null
          }
        },
        "f59b637e2ce347f0adda1265cd329cb5": {
          "model_module": "@jupyter-widgets/controls",
          "model_name": "HTMLModel",
          "model_module_version": "1.5.0",
          "state": {
            "_view_name": "HTMLView",
            "style": "IPY_MODEL_e95e070be2d143a78356525786e5e861",
            "_dom_classes": [],
            "description": "",
            "_model_name": "HTMLModel",
            "placeholder": "​",
            "_view_module": "@jupyter-widgets/controls",
            "_model_module_version": "1.5.0",
            "value": "Downloading: 100%",
            "_view_count": null,
            "_view_module_version": "1.5.0",
            "description_tooltip": null,
            "_model_module": "@jupyter-widgets/controls",
            "layout": "IPY_MODEL_767734f3c430416faaca5cf027644cad"
          }
        },
        "eeae0f10e1564436b97dfff168f97d64": {
          "model_module": "@jupyter-widgets/controls",
          "model_name": "FloatProgressModel",
          "model_module_version": "1.5.0",
          "state": {
            "_view_name": "ProgressView",
            "style": "IPY_MODEL_31e6182ce6fb4bb499f585a7aec26c42",
            "_dom_classes": [],
            "description": "",
            "_model_name": "FloatProgressModel",
            "bar_style": "success",
            "max": 570,
            "_view_module": "@jupyter-widgets/controls",
            "_model_module_version": "1.5.0",
            "value": 570,
            "_view_count": null,
            "_view_module_version": "1.5.0",
            "orientation": "horizontal",
            "min": 0,
            "description_tooltip": null,
            "_model_module": "@jupyter-widgets/controls",
            "layout": "IPY_MODEL_1c05b8a9e9674766b4e233cffc646cc5"
          }
        },
        "8722b4305fc948439a636be9a9d65c82": {
          "model_module": "@jupyter-widgets/controls",
          "model_name": "HTMLModel",
          "model_module_version": "1.5.0",
          "state": {
            "_view_name": "HTMLView",
            "style": "IPY_MODEL_34fd07b729f64d799348c017bd25828e",
            "_dom_classes": [],
            "description": "",
            "_model_name": "HTMLModel",
            "placeholder": "​",
            "_view_module": "@jupyter-widgets/controls",
            "_model_module_version": "1.5.0",
            "value": " 570/570 [00:00&lt;00:00, 13.9kB/s]",
            "_view_count": null,
            "_view_module_version": "1.5.0",
            "description_tooltip": null,
            "_model_module": "@jupyter-widgets/controls",
            "layout": "IPY_MODEL_93f5e022860b4018b61ff68ff29c0078"
          }
        },
        "e95e070be2d143a78356525786e5e861": {
          "model_module": "@jupyter-widgets/controls",
          "model_name": "DescriptionStyleModel",
          "model_module_version": "1.5.0",
          "state": {
            "_view_name": "StyleView",
            "_model_name": "DescriptionStyleModel",
            "description_width": "",
            "_view_module": "@jupyter-widgets/base",
            "_model_module_version": "1.5.0",
            "_view_count": null,
            "_view_module_version": "1.2.0",
            "_model_module": "@jupyter-widgets/controls"
          }
        },
        "767734f3c430416faaca5cf027644cad": {
          "model_module": "@jupyter-widgets/base",
          "model_name": "LayoutModel",
          "model_module_version": "1.2.0",
          "state": {
            "_view_name": "LayoutView",
            "grid_template_rows": null,
            "right": null,
            "justify_content": null,
            "_view_module": "@jupyter-widgets/base",
            "overflow": null,
            "_model_module_version": "1.2.0",
            "_view_count": null,
            "flex_flow": null,
            "width": null,
            "min_width": null,
            "border": null,
            "align_items": null,
            "bottom": null,
            "_model_module": "@jupyter-widgets/base",
            "top": null,
            "grid_column": null,
            "overflow_y": null,
            "overflow_x": null,
            "grid_auto_flow": null,
            "grid_area": null,
            "grid_template_columns": null,
            "flex": null,
            "_model_name": "LayoutModel",
            "justify_items": null,
            "grid_row": null,
            "max_height": null,
            "align_content": null,
            "visibility": null,
            "align_self": null,
            "height": null,
            "min_height": null,
            "padding": null,
            "grid_auto_rows": null,
            "grid_gap": null,
            "max_width": null,
            "order": null,
            "_view_module_version": "1.2.0",
            "grid_template_areas": null,
            "object_position": null,
            "object_fit": null,
            "grid_auto_columns": null,
            "margin": null,
            "display": null,
            "left": null
          }
        },
        "31e6182ce6fb4bb499f585a7aec26c42": {
          "model_module": "@jupyter-widgets/controls",
          "model_name": "ProgressStyleModel",
          "model_module_version": "1.5.0",
          "state": {
            "_view_name": "StyleView",
            "_model_name": "ProgressStyleModel",
            "description_width": "",
            "_view_module": "@jupyter-widgets/base",
            "_model_module_version": "1.5.0",
            "_view_count": null,
            "_view_module_version": "1.2.0",
            "bar_color": null,
            "_model_module": "@jupyter-widgets/controls"
          }
        },
        "1c05b8a9e9674766b4e233cffc646cc5": {
          "model_module": "@jupyter-widgets/base",
          "model_name": "LayoutModel",
          "model_module_version": "1.2.0",
          "state": {
            "_view_name": "LayoutView",
            "grid_template_rows": null,
            "right": null,
            "justify_content": null,
            "_view_module": "@jupyter-widgets/base",
            "overflow": null,
            "_model_module_version": "1.2.0",
            "_view_count": null,
            "flex_flow": null,
            "width": null,
            "min_width": null,
            "border": null,
            "align_items": null,
            "bottom": null,
            "_model_module": "@jupyter-widgets/base",
            "top": null,
            "grid_column": null,
            "overflow_y": null,
            "overflow_x": null,
            "grid_auto_flow": null,
            "grid_area": null,
            "grid_template_columns": null,
            "flex": null,
            "_model_name": "LayoutModel",
            "justify_items": null,
            "grid_row": null,
            "max_height": null,
            "align_content": null,
            "visibility": null,
            "align_self": null,
            "height": null,
            "min_height": null,
            "padding": null,
            "grid_auto_rows": null,
            "grid_gap": null,
            "max_width": null,
            "order": null,
            "_view_module_version": "1.2.0",
            "grid_template_areas": null,
            "object_position": null,
            "object_fit": null,
            "grid_auto_columns": null,
            "margin": null,
            "display": null,
            "left": null
          }
        },
        "34fd07b729f64d799348c017bd25828e": {
          "model_module": "@jupyter-widgets/controls",
          "model_name": "DescriptionStyleModel",
          "model_module_version": "1.5.0",
          "state": {
            "_view_name": "StyleView",
            "_model_name": "DescriptionStyleModel",
            "description_width": "",
            "_view_module": "@jupyter-widgets/base",
            "_model_module_version": "1.5.0",
            "_view_count": null,
            "_view_module_version": "1.2.0",
            "_model_module": "@jupyter-widgets/controls"
          }
        },
        "93f5e022860b4018b61ff68ff29c0078": {
          "model_module": "@jupyter-widgets/base",
          "model_name": "LayoutModel",
          "model_module_version": "1.2.0",
          "state": {
            "_view_name": "LayoutView",
            "grid_template_rows": null,
            "right": null,
            "justify_content": null,
            "_view_module": "@jupyter-widgets/base",
            "overflow": null,
            "_model_module_version": "1.2.0",
            "_view_count": null,
            "flex_flow": null,
            "width": null,
            "min_width": null,
            "border": null,
            "align_items": null,
            "bottom": null,
            "_model_module": "@jupyter-widgets/base",
            "top": null,
            "grid_column": null,
            "overflow_y": null,
            "overflow_x": null,
            "grid_auto_flow": null,
            "grid_area": null,
            "grid_template_columns": null,
            "flex": null,
            "_model_name": "LayoutModel",
            "justify_items": null,
            "grid_row": null,
            "max_height": null,
            "align_content": null,
            "visibility": null,
            "align_self": null,
            "height": null,
            "min_height": null,
            "padding": null,
            "grid_auto_rows": null,
            "grid_gap": null,
            "max_width": null,
            "order": null,
            "_view_module_version": "1.2.0",
            "grid_template_areas": null,
            "object_position": null,
            "object_fit": null,
            "grid_auto_columns": null,
            "margin": null,
            "display": null,
            "left": null
          }
        }
      }
    }
  },
  "cells": [
    {
      "cell_type": "code",
      "metadata": {
        "colab": {
          "base_uri": "https://localhost:8080/"
        },
        "id": "SRgdcua43Li4",
        "outputId": "9f7f17e8-846b-4680-c842-42c007ed5ef6"
      },
      "source": [
        "!pip install transformers"
      ],
      "execution_count": null,
      "outputs": [
        {
          "output_type": "stream",
          "name": "stdout",
          "text": [
            "Collecting transformers\n",
            "  Downloading transformers-4.12.5-py3-none-any.whl (3.1 MB)\n",
            "\u001b[K     |████████████████████████████████| 3.1 MB 5.2 MB/s \n",
            "\u001b[?25hRequirement already satisfied: requests in /usr/local/lib/python3.7/dist-packages (from transformers) (2.23.0)\n",
            "Requirement already satisfied: regex!=2019.12.17 in /usr/local/lib/python3.7/dist-packages (from transformers) (2019.12.20)\n",
            "Requirement already satisfied: numpy>=1.17 in /usr/local/lib/python3.7/dist-packages (from transformers) (1.19.5)\n",
            "Requirement already satisfied: tqdm>=4.27 in /usr/local/lib/python3.7/dist-packages (from transformers) (4.62.3)\n",
            "Requirement already satisfied: filelock in /usr/local/lib/python3.7/dist-packages (from transformers) (3.4.0)\n",
            "Requirement already satisfied: packaging>=20.0 in /usr/local/lib/python3.7/dist-packages (from transformers) (21.3)\n",
            "Collecting huggingface-hub<1.0,>=0.1.0\n",
            "  Downloading huggingface_hub-0.1.2-py3-none-any.whl (59 kB)\n",
            "\u001b[K     |████████████████████████████████| 59 kB 6.6 MB/s \n",
            "\u001b[?25hCollecting tokenizers<0.11,>=0.10.1\n",
            "  Downloading tokenizers-0.10.3-cp37-cp37m-manylinux_2_5_x86_64.manylinux1_x86_64.manylinux_2_12_x86_64.manylinux2010_x86_64.whl (3.3 MB)\n",
            "\u001b[K     |████████████████████████████████| 3.3 MB 39.1 MB/s \n",
            "\u001b[?25hRequirement already satisfied: importlib-metadata in /usr/local/lib/python3.7/dist-packages (from transformers) (4.8.2)\n",
            "Collecting sacremoses\n",
            "  Downloading sacremoses-0.0.46-py3-none-any.whl (895 kB)\n",
            "\u001b[K     |████████████████████████████████| 895 kB 41.0 MB/s \n",
            "\u001b[?25hCollecting pyyaml>=5.1\n",
            "  Downloading PyYAML-6.0-cp37-cp37m-manylinux_2_5_x86_64.manylinux1_x86_64.manylinux_2_12_x86_64.manylinux2010_x86_64.whl (596 kB)\n",
            "\u001b[K     |████████████████████████████████| 596 kB 36.7 MB/s \n",
            "\u001b[?25hRequirement already satisfied: typing-extensions>=3.7.4.3 in /usr/local/lib/python3.7/dist-packages (from huggingface-hub<1.0,>=0.1.0->transformers) (3.10.0.2)\n",
            "Requirement already satisfied: pyparsing!=3.0.5,>=2.0.2 in /usr/local/lib/python3.7/dist-packages (from packaging>=20.0->transformers) (3.0.6)\n",
            "Requirement already satisfied: zipp>=0.5 in /usr/local/lib/python3.7/dist-packages (from importlib-metadata->transformers) (3.6.0)\n",
            "Requirement already satisfied: idna<3,>=2.5 in /usr/local/lib/python3.7/dist-packages (from requests->transformers) (2.10)\n",
            "Requirement already satisfied: chardet<4,>=3.0.2 in /usr/local/lib/python3.7/dist-packages (from requests->transformers) (3.0.4)\n",
            "Requirement already satisfied: urllib3!=1.25.0,!=1.25.1,<1.26,>=1.21.1 in /usr/local/lib/python3.7/dist-packages (from requests->transformers) (1.24.3)\n",
            "Requirement already satisfied: certifi>=2017.4.17 in /usr/local/lib/python3.7/dist-packages (from requests->transformers) (2021.10.8)\n",
            "Requirement already satisfied: joblib in /usr/local/lib/python3.7/dist-packages (from sacremoses->transformers) (1.1.0)\n",
            "Requirement already satisfied: six in /usr/local/lib/python3.7/dist-packages (from sacremoses->transformers) (1.15.0)\n",
            "Requirement already satisfied: click in /usr/local/lib/python3.7/dist-packages (from sacremoses->transformers) (7.1.2)\n",
            "Installing collected packages: pyyaml, tokenizers, sacremoses, huggingface-hub, transformers\n",
            "  Attempting uninstall: pyyaml\n",
            "    Found existing installation: PyYAML 3.13\n",
            "    Uninstalling PyYAML-3.13:\n",
            "      Successfully uninstalled PyYAML-3.13\n",
            "Successfully installed huggingface-hub-0.1.2 pyyaml-6.0 sacremoses-0.0.46 tokenizers-0.10.3 transformers-4.12.5\n"
          ]
        }
      ]
    },
    {
      "cell_type": "code",
      "metadata": {
        "colab": {
          "base_uri": "https://localhost:8080/"
        },
        "id": "WuVj3hmz0ND9",
        "outputId": "9fe30b3a-0313-4dfc-fb5d-458dd0c76d68"
      },
      "source": [
        "from google.colab import drive \n",
        "drive.mount('/content/gdrive')"
      ],
      "execution_count": null,
      "outputs": [
        {
          "output_type": "stream",
          "name": "stdout",
          "text": [
            "Mounted at /content/gdrive\n"
          ]
        }
      ]
    },
    {
      "cell_type": "code",
      "metadata": {
        "id": "lb4KDUFh0l6B"
      },
      "source": [
        "import joblib\n",
        "import numpy as np\n",
        "import pandas as pd"
      ],
      "execution_count": null,
      "outputs": []
    },
    {
      "cell_type": "code",
      "metadata": {
        "id": "Zz_jk3fd3UM2"
      },
      "source": [
        "import torch\n",
        "from tqdm.notebook import tqdm\n",
        "\n",
        "from transformers import BertTokenizer\n",
        "from torch.utils.data import TensorDataset\n",
        "\n",
        "from transformers import BertForSequenceClassification"
      ],
      "execution_count": null,
      "outputs": []
    },
    {
      "cell_type": "code",
      "metadata": {
        "id": "Zo-14q1E3xBX"
      },
      "source": [
        "model = joblib.load('gdrive/My Drive/final_model_1.sav')"
      ],
      "execution_count": null,
      "outputs": []
    },
    {
      "cell_type": "code",
      "metadata": {
        "colab": {
          "base_uri": "https://localhost:8080/",
          "height": 206
        },
        "id": "B7xgaSVY3-oC",
        "outputId": "f88cb36b-97e2-4781-e568-7f42c6eb9b6c"
      },
      "source": [
        "tdf = pd.read_csv('gdrive/My Drive/test_set_final_release.tsv',sep ='\\t')\n",
        "tdf.head()"
      ],
      "execution_count": null,
      "outputs": [
        {
          "output_type": "execute_result",
          "data": {
            "text/html": [
              "<div>\n",
              "<style scoped>\n",
              "    .dataframe tbody tr th:only-of-type {\n",
              "        vertical-align: middle;\n",
              "    }\n",
              "\n",
              "    .dataframe tbody tr th {\n",
              "        vertical-align: top;\n",
              "    }\n",
              "\n",
              "    .dataframe thead th {\n",
              "        text-align: right;\n",
              "    }\n",
              "</style>\n",
              "<table border=\"1\" class=\"dataframe\">\n",
              "  <thead>\n",
              "    <tr style=\"text-align: right;\">\n",
              "      <th></th>\n",
              "      <th>id</th>\n",
              "      <th>EventSnippet</th>\n",
              "    </tr>\n",
              "  </thead>\n",
              "  <tbody>\n",
              "    <tr>\n",
              "      <th>0</th>\n",
              "      <td>1</td>\n",
              "      <td>The US warplanes pounded the village of Kashka...</td>\n",
              "    </tr>\n",
              "    <tr>\n",
              "      <th>1</th>\n",
              "      <td>2</td>\n",
              "      <td>After a five-week drop of Covid-19 cases in Pu...</td>\n",
              "    </tr>\n",
              "    <tr>\n",
              "      <th>2</th>\n",
              "      <td>3</td>\n",
              "      <td>Officers brutally attacked and injured a peace...</td>\n",
              "    </tr>\n",
              "    <tr>\n",
              "      <th>3</th>\n",
              "      <td>4</td>\n",
              "      <td>On December 13, ISIS fighters recaptured the v...</td>\n",
              "    </tr>\n",
              "    <tr>\n",
              "      <th>4</th>\n",
              "      <td>5</td>\n",
              "      <td>Vice-President Mike Pence said Thursday that t...</td>\n",
              "    </tr>\n",
              "  </tbody>\n",
              "</table>\n",
              "</div>"
            ],
            "text/plain": [
              "   id                                       EventSnippet\n",
              "0   1  The US warplanes pounded the village of Kashka...\n",
              "1   2  After a five-week drop of Covid-19 cases in Pu...\n",
              "2   3  Officers brutally attacked and injured a peace...\n",
              "3   4  On December 13, ISIS fighters recaptured the v...\n",
              "4   5  Vice-President Mike Pence said Thursday that t..."
            ]
          },
          "metadata": {},
          "execution_count": 6
        }
      ]
    },
    {
      "cell_type": "code",
      "metadata": {
        "colab": {
          "base_uri": "https://localhost:8080/",
          "height": 145,
          "referenced_widgets": [
            "8172a6ba92c24a4393221ebf7b8857af",
            "4c120176a0684298b31c1c749b7ffa9c",
            "e2d7bde6209f485ea7fecd0e4c878c35",
            "97d752fe76504717848a0883e6425527",
            "971cd94775c947ba8e3e6c2d8ac07046",
            "db9a4b4883374a009b87613f6a84f6fa",
            "c5f7878d02164f5780e2ad96a0fe04e4",
            "42c34c38c60c4ff5bf6caadebf090dc2",
            "ab82f394326443e487092c007b27df3a",
            "b287dcf30c3547699dbca0f896c2571e",
            "9b4cd92d91294d83be186d1a4cd0ad32",
            "f30fb489c92f4f5c85e462268951114a",
            "ab7d4c5f69d64528a1ccf20fc126650f",
            "efb75b4a6e7f44de91c85b6109d7c682",
            "424d3d774160443ab55edcb069e29c43",
            "b3929354da0345248355d424970dabcd",
            "116c358a6dcf4237b37551b14e7d0229",
            "08553968196d477493eeca6b0901a0f6",
            "ddf4d6392a1b4b2bb26f69f27ff63915",
            "55a8d548aed84d529f3429fb1673f490",
            "1b300a8818904f5db8c5e46b13bc9aea",
            "058a2daac7ec42da866a1b9881703911",
            "e00b479b3c1347128fc62cd38e3eb7f3",
            "8f0519bbb36b45429803292a777b363d",
            "9c9affe0f8ac447e8d22d4eb015edea3",
            "49992230ca7a405c98107362bbe5a3e8",
            "56ab310f4c1d4c54a45120cd7290b91b",
            "b2a331b8da414c0fa508e32fce3a5643",
            "205b2313e89942368dba48dfe596efd1",
            "bc2eac9b58f448e6a8dc945448a89f25",
            "cc53b28836584708bb020c3862389929",
            "570b1c6f58e34e40a413a5242381f6d9",
            "b21bb99dd7a7485093f7e2a0b8efc2f8",
            "2ea02d99ea4c43ceb3ddf65aa6e33a34",
            "3801f96893464c0b93442ebb9fe89089",
            "f59b637e2ce347f0adda1265cd329cb5",
            "eeae0f10e1564436b97dfff168f97d64",
            "8722b4305fc948439a636be9a9d65c82",
            "e95e070be2d143a78356525786e5e861",
            "767734f3c430416faaca5cf027644cad",
            "31e6182ce6fb4bb499f585a7aec26c42",
            "1c05b8a9e9674766b4e233cffc646cc5",
            "34fd07b729f64d799348c017bd25828e",
            "93f5e022860b4018b61ff68ff29c0078"
          ]
        },
        "id": "yvWBKGj45z9c",
        "outputId": "9b0556a3-d47e-4ee5-f685-3a27c3b1e5b8"
      },
      "source": [
        "tokenizer = BertTokenizer.from_pretrained('bert-base-uncased', \n",
        "                                          do_lower_case=True)"
      ],
      "execution_count": null,
      "outputs": [
        {
          "output_type": "display_data",
          "data": {
            "application/vnd.jupyter.widget-view+json": {
              "model_id": "8172a6ba92c24a4393221ebf7b8857af",
              "version_minor": 0,
              "version_major": 2
            },
            "text/plain": [
              "Downloading:   0%|          | 0.00/226k [00:00<?, ?B/s]"
            ]
          },
          "metadata": {}
        },
        {
          "output_type": "display_data",
          "data": {
            "application/vnd.jupyter.widget-view+json": {
              "model_id": "f30fb489c92f4f5c85e462268951114a",
              "version_minor": 0,
              "version_major": 2
            },
            "text/plain": [
              "Downloading:   0%|          | 0.00/28.0 [00:00<?, ?B/s]"
            ]
          },
          "metadata": {}
        },
        {
          "output_type": "display_data",
          "data": {
            "application/vnd.jupyter.widget-view+json": {
              "model_id": "e00b479b3c1347128fc62cd38e3eb7f3",
              "version_minor": 0,
              "version_major": 2
            },
            "text/plain": [
              "Downloading:   0%|          | 0.00/455k [00:00<?, ?B/s]"
            ]
          },
          "metadata": {}
        },
        {
          "output_type": "display_data",
          "data": {
            "application/vnd.jupyter.widget-view+json": {
              "model_id": "2ea02d99ea4c43ceb3ddf65aa6e33a34",
              "version_minor": 0,
              "version_major": 2
            },
            "text/plain": [
              "Downloading:   0%|          | 0.00/570 [00:00<?, ?B/s]"
            ]
          },
          "metadata": {}
        }
      ]
    },
    {
      "cell_type": "code",
      "metadata": {
        "colab": {
          "base_uri": "https://localhost:8080/"
        },
        "id": "36pUpTs44IhB",
        "outputId": "9235e5f5-06a5-4087-cda2-d80076e74714"
      },
      "source": [
        "sents = tdf['EventSnippet']\n",
        "ids = tdf['id']\n",
        "print(sents)"
      ],
      "execution_count": null,
      "outputs": [
        {
          "output_type": "stream",
          "name": "stdout",
          "text": [
            "0       The US warplanes pounded the village of Kashka...\n",
            "1       After a five-week drop of Covid-19 cases in Pu...\n",
            "2       Officers brutally attacked and injured a peace...\n",
            "3       On December 13, ISIS fighters recaptured the v...\n",
            "4       Vice-President Mike Pence said Thursday that t...\n",
            "                              ...                        \n",
            "1018    The Chinese foreign minister has has urged his...\n",
            "1019    People of different walks of life, including r...\n",
            "1020    Heavily armed al-Shabab mujahideen fighters ha...\n",
            "1021    Monitoring Desk. FARAH. The People's Peace Mov...\n",
            "1022    Field sources affiliated to the militants back...\n",
            "Name: EventSnippet, Length: 1023, dtype: object\n"
          ]
        }
      ]
    },
    {
      "cell_type": "code",
      "metadata": {
        "id": "_Eij955Y6Gk9"
      },
      "source": [
        "from torch.utils.data import DataLoader, RandomSampler, SequentialSampler"
      ],
      "execution_count": null,
      "outputs": []
    },
    {
      "cell_type": "code",
      "metadata": {
        "colab": {
          "base_uri": "https://localhost:8080/"
        },
        "id": "bp2490ny5nS_",
        "outputId": "bb4fd163-abb6-4619-f86d-21b315107f5b"
      },
      "source": [
        "encoded_data_val = tokenizer.batch_encode_plus(\n",
        "    sents, \n",
        "    add_special_tokens=True, \n",
        "    return_attention_mask=True, \n",
        "    pad_to_max_length=True, \n",
        "    max_length=140, \n",
        "    return_tensors='pt'\n",
        ")\n",
        "input_ids_val = encoded_data_val['input_ids']\n",
        "attention_masks_val = encoded_data_val['attention_mask']\n",
        "dataset_val = TensorDataset(input_ids_val, attention_masks_val)\n",
        "batch_size = 1\n",
        "valid_dataloader = DataLoader(dataset_val, \n",
        "                                   sampler=SequentialSampler(dataset_val), \n",
        "                                   batch_size=batch_size)"
      ],
      "execution_count": null,
      "outputs": [
        {
          "output_type": "stream",
          "name": "stderr",
          "text": [
            "Truncation was not explicitly activated but `max_length` is provided a specific value, please use `truncation=True` to explicitly truncate examples to max length. Defaulting to 'longest_first' truncation strategy. If you encode pairs of sequences (GLUE-style) with the tokenizer you can select this strategy more precisely by providing a specific strategy to `truncation`.\n",
            "/usr/local/lib/python3.7/dist-packages/transformers/tokenization_utils_base.py:2218: FutureWarning: The `pad_to_max_length` argument is deprecated and will be removed in a future version, use `padding=True` or `padding='longest'` to pad to the longest sequence in the batch, or use `padding='max_length'` to pad to a max length. In this case, you can give a specific length with `max_length` (e.g. `max_length=45`) or leave max_length to None to pad to the maximal input size of the model (e.g. 512 for Bert).\n",
            "  FutureWarning,\n"
          ]
        }
      ]
    },
    {
      "cell_type": "code",
      "metadata": {
        "colab": {
          "base_uri": "https://localhost:8080/"
        },
        "id": "lT3V14q96KB7",
        "outputId": "7ee585fa-cdf6-4ae5-beaa-17ae1245adb5"
      },
      "source": [
        "model.cuda()"
      ],
      "execution_count": null,
      "outputs": [
        {
          "output_type": "execute_result",
          "data": {
            "text/plain": [
              "BertForSequenceClassification(\n",
              "  (bert): BertModel(\n",
              "    (embeddings): BertEmbeddings(\n",
              "      (word_embeddings): Embedding(30522, 768, padding_idx=0)\n",
              "      (position_embeddings): Embedding(512, 768)\n",
              "      (token_type_embeddings): Embedding(2, 768)\n",
              "      (LayerNorm): LayerNorm((768,), eps=1e-12, elementwise_affine=True)\n",
              "      (dropout): Dropout(p=0.1, inplace=False)\n",
              "    )\n",
              "    (encoder): BertEncoder(\n",
              "      (layer): ModuleList(\n",
              "        (0): BertLayer(\n",
              "          (attention): BertAttention(\n",
              "            (self): BertSelfAttention(\n",
              "              (query): Linear(in_features=768, out_features=768, bias=True)\n",
              "              (key): Linear(in_features=768, out_features=768, bias=True)\n",
              "              (value): Linear(in_features=768, out_features=768, bias=True)\n",
              "              (dropout): Dropout(p=0.1, inplace=False)\n",
              "            )\n",
              "            (output): BertSelfOutput(\n",
              "              (dense): Linear(in_features=768, out_features=768, bias=True)\n",
              "              (LayerNorm): LayerNorm((768,), eps=1e-12, elementwise_affine=True)\n",
              "              (dropout): Dropout(p=0.1, inplace=False)\n",
              "            )\n",
              "          )\n",
              "          (intermediate): BertIntermediate(\n",
              "            (dense): Linear(in_features=768, out_features=3072, bias=True)\n",
              "          )\n",
              "          (output): BertOutput(\n",
              "            (dense): Linear(in_features=3072, out_features=768, bias=True)\n",
              "            (LayerNorm): LayerNorm((768,), eps=1e-12, elementwise_affine=True)\n",
              "            (dropout): Dropout(p=0.1, inplace=False)\n",
              "          )\n",
              "        )\n",
              "        (1): BertLayer(\n",
              "          (attention): BertAttention(\n",
              "            (self): BertSelfAttention(\n",
              "              (query): Linear(in_features=768, out_features=768, bias=True)\n",
              "              (key): Linear(in_features=768, out_features=768, bias=True)\n",
              "              (value): Linear(in_features=768, out_features=768, bias=True)\n",
              "              (dropout): Dropout(p=0.1, inplace=False)\n",
              "            )\n",
              "            (output): BertSelfOutput(\n",
              "              (dense): Linear(in_features=768, out_features=768, bias=True)\n",
              "              (LayerNorm): LayerNorm((768,), eps=1e-12, elementwise_affine=True)\n",
              "              (dropout): Dropout(p=0.1, inplace=False)\n",
              "            )\n",
              "          )\n",
              "          (intermediate): BertIntermediate(\n",
              "            (dense): Linear(in_features=768, out_features=3072, bias=True)\n",
              "          )\n",
              "          (output): BertOutput(\n",
              "            (dense): Linear(in_features=3072, out_features=768, bias=True)\n",
              "            (LayerNorm): LayerNorm((768,), eps=1e-12, elementwise_affine=True)\n",
              "            (dropout): Dropout(p=0.1, inplace=False)\n",
              "          )\n",
              "        )\n",
              "        (2): BertLayer(\n",
              "          (attention): BertAttention(\n",
              "            (self): BertSelfAttention(\n",
              "              (query): Linear(in_features=768, out_features=768, bias=True)\n",
              "              (key): Linear(in_features=768, out_features=768, bias=True)\n",
              "              (value): Linear(in_features=768, out_features=768, bias=True)\n",
              "              (dropout): Dropout(p=0.1, inplace=False)\n",
              "            )\n",
              "            (output): BertSelfOutput(\n",
              "              (dense): Linear(in_features=768, out_features=768, bias=True)\n",
              "              (LayerNorm): LayerNorm((768,), eps=1e-12, elementwise_affine=True)\n",
              "              (dropout): Dropout(p=0.1, inplace=False)\n",
              "            )\n",
              "          )\n",
              "          (intermediate): BertIntermediate(\n",
              "            (dense): Linear(in_features=768, out_features=3072, bias=True)\n",
              "          )\n",
              "          (output): BertOutput(\n",
              "            (dense): Linear(in_features=3072, out_features=768, bias=True)\n",
              "            (LayerNorm): LayerNorm((768,), eps=1e-12, elementwise_affine=True)\n",
              "            (dropout): Dropout(p=0.1, inplace=False)\n",
              "          )\n",
              "        )\n",
              "        (3): BertLayer(\n",
              "          (attention): BertAttention(\n",
              "            (self): BertSelfAttention(\n",
              "              (query): Linear(in_features=768, out_features=768, bias=True)\n",
              "              (key): Linear(in_features=768, out_features=768, bias=True)\n",
              "              (value): Linear(in_features=768, out_features=768, bias=True)\n",
              "              (dropout): Dropout(p=0.1, inplace=False)\n",
              "            )\n",
              "            (output): BertSelfOutput(\n",
              "              (dense): Linear(in_features=768, out_features=768, bias=True)\n",
              "              (LayerNorm): LayerNorm((768,), eps=1e-12, elementwise_affine=True)\n",
              "              (dropout): Dropout(p=0.1, inplace=False)\n",
              "            )\n",
              "          )\n",
              "          (intermediate): BertIntermediate(\n",
              "            (dense): Linear(in_features=768, out_features=3072, bias=True)\n",
              "          )\n",
              "          (output): BertOutput(\n",
              "            (dense): Linear(in_features=3072, out_features=768, bias=True)\n",
              "            (LayerNorm): LayerNorm((768,), eps=1e-12, elementwise_affine=True)\n",
              "            (dropout): Dropout(p=0.1, inplace=False)\n",
              "          )\n",
              "        )\n",
              "        (4): BertLayer(\n",
              "          (attention): BertAttention(\n",
              "            (self): BertSelfAttention(\n",
              "              (query): Linear(in_features=768, out_features=768, bias=True)\n",
              "              (key): Linear(in_features=768, out_features=768, bias=True)\n",
              "              (value): Linear(in_features=768, out_features=768, bias=True)\n",
              "              (dropout): Dropout(p=0.1, inplace=False)\n",
              "            )\n",
              "            (output): BertSelfOutput(\n",
              "              (dense): Linear(in_features=768, out_features=768, bias=True)\n",
              "              (LayerNorm): LayerNorm((768,), eps=1e-12, elementwise_affine=True)\n",
              "              (dropout): Dropout(p=0.1, inplace=False)\n",
              "            )\n",
              "          )\n",
              "          (intermediate): BertIntermediate(\n",
              "            (dense): Linear(in_features=768, out_features=3072, bias=True)\n",
              "          )\n",
              "          (output): BertOutput(\n",
              "            (dense): Linear(in_features=3072, out_features=768, bias=True)\n",
              "            (LayerNorm): LayerNorm((768,), eps=1e-12, elementwise_affine=True)\n",
              "            (dropout): Dropout(p=0.1, inplace=False)\n",
              "          )\n",
              "        )\n",
              "        (5): BertLayer(\n",
              "          (attention): BertAttention(\n",
              "            (self): BertSelfAttention(\n",
              "              (query): Linear(in_features=768, out_features=768, bias=True)\n",
              "              (key): Linear(in_features=768, out_features=768, bias=True)\n",
              "              (value): Linear(in_features=768, out_features=768, bias=True)\n",
              "              (dropout): Dropout(p=0.1, inplace=False)\n",
              "            )\n",
              "            (output): BertSelfOutput(\n",
              "              (dense): Linear(in_features=768, out_features=768, bias=True)\n",
              "              (LayerNorm): LayerNorm((768,), eps=1e-12, elementwise_affine=True)\n",
              "              (dropout): Dropout(p=0.1, inplace=False)\n",
              "            )\n",
              "          )\n",
              "          (intermediate): BertIntermediate(\n",
              "            (dense): Linear(in_features=768, out_features=3072, bias=True)\n",
              "          )\n",
              "          (output): BertOutput(\n",
              "            (dense): Linear(in_features=3072, out_features=768, bias=True)\n",
              "            (LayerNorm): LayerNorm((768,), eps=1e-12, elementwise_affine=True)\n",
              "            (dropout): Dropout(p=0.1, inplace=False)\n",
              "          )\n",
              "        )\n",
              "        (6): BertLayer(\n",
              "          (attention): BertAttention(\n",
              "            (self): BertSelfAttention(\n",
              "              (query): Linear(in_features=768, out_features=768, bias=True)\n",
              "              (key): Linear(in_features=768, out_features=768, bias=True)\n",
              "              (value): Linear(in_features=768, out_features=768, bias=True)\n",
              "              (dropout): Dropout(p=0.1, inplace=False)\n",
              "            )\n",
              "            (output): BertSelfOutput(\n",
              "              (dense): Linear(in_features=768, out_features=768, bias=True)\n",
              "              (LayerNorm): LayerNorm((768,), eps=1e-12, elementwise_affine=True)\n",
              "              (dropout): Dropout(p=0.1, inplace=False)\n",
              "            )\n",
              "          )\n",
              "          (intermediate): BertIntermediate(\n",
              "            (dense): Linear(in_features=768, out_features=3072, bias=True)\n",
              "          )\n",
              "          (output): BertOutput(\n",
              "            (dense): Linear(in_features=3072, out_features=768, bias=True)\n",
              "            (LayerNorm): LayerNorm((768,), eps=1e-12, elementwise_affine=True)\n",
              "            (dropout): Dropout(p=0.1, inplace=False)\n",
              "          )\n",
              "        )\n",
              "        (7): BertLayer(\n",
              "          (attention): BertAttention(\n",
              "            (self): BertSelfAttention(\n",
              "              (query): Linear(in_features=768, out_features=768, bias=True)\n",
              "              (key): Linear(in_features=768, out_features=768, bias=True)\n",
              "              (value): Linear(in_features=768, out_features=768, bias=True)\n",
              "              (dropout): Dropout(p=0.1, inplace=False)\n",
              "            )\n",
              "            (output): BertSelfOutput(\n",
              "              (dense): Linear(in_features=768, out_features=768, bias=True)\n",
              "              (LayerNorm): LayerNorm((768,), eps=1e-12, elementwise_affine=True)\n",
              "              (dropout): Dropout(p=0.1, inplace=False)\n",
              "            )\n",
              "          )\n",
              "          (intermediate): BertIntermediate(\n",
              "            (dense): Linear(in_features=768, out_features=3072, bias=True)\n",
              "          )\n",
              "          (output): BertOutput(\n",
              "            (dense): Linear(in_features=3072, out_features=768, bias=True)\n",
              "            (LayerNorm): LayerNorm((768,), eps=1e-12, elementwise_affine=True)\n",
              "            (dropout): Dropout(p=0.1, inplace=False)\n",
              "          )\n",
              "        )\n",
              "        (8): BertLayer(\n",
              "          (attention): BertAttention(\n",
              "            (self): BertSelfAttention(\n",
              "              (query): Linear(in_features=768, out_features=768, bias=True)\n",
              "              (key): Linear(in_features=768, out_features=768, bias=True)\n",
              "              (value): Linear(in_features=768, out_features=768, bias=True)\n",
              "              (dropout): Dropout(p=0.1, inplace=False)\n",
              "            )\n",
              "            (output): BertSelfOutput(\n",
              "              (dense): Linear(in_features=768, out_features=768, bias=True)\n",
              "              (LayerNorm): LayerNorm((768,), eps=1e-12, elementwise_affine=True)\n",
              "              (dropout): Dropout(p=0.1, inplace=False)\n",
              "            )\n",
              "          )\n",
              "          (intermediate): BertIntermediate(\n",
              "            (dense): Linear(in_features=768, out_features=3072, bias=True)\n",
              "          )\n",
              "          (output): BertOutput(\n",
              "            (dense): Linear(in_features=3072, out_features=768, bias=True)\n",
              "            (LayerNorm): LayerNorm((768,), eps=1e-12, elementwise_affine=True)\n",
              "            (dropout): Dropout(p=0.1, inplace=False)\n",
              "          )\n",
              "        )\n",
              "        (9): BertLayer(\n",
              "          (attention): BertAttention(\n",
              "            (self): BertSelfAttention(\n",
              "              (query): Linear(in_features=768, out_features=768, bias=True)\n",
              "              (key): Linear(in_features=768, out_features=768, bias=True)\n",
              "              (value): Linear(in_features=768, out_features=768, bias=True)\n",
              "              (dropout): Dropout(p=0.1, inplace=False)\n",
              "            )\n",
              "            (output): BertSelfOutput(\n",
              "              (dense): Linear(in_features=768, out_features=768, bias=True)\n",
              "              (LayerNorm): LayerNorm((768,), eps=1e-12, elementwise_affine=True)\n",
              "              (dropout): Dropout(p=0.1, inplace=False)\n",
              "            )\n",
              "          )\n",
              "          (intermediate): BertIntermediate(\n",
              "            (dense): Linear(in_features=768, out_features=3072, bias=True)\n",
              "          )\n",
              "          (output): BertOutput(\n",
              "            (dense): Linear(in_features=3072, out_features=768, bias=True)\n",
              "            (LayerNorm): LayerNorm((768,), eps=1e-12, elementwise_affine=True)\n",
              "            (dropout): Dropout(p=0.1, inplace=False)\n",
              "          )\n",
              "        )\n",
              "        (10): BertLayer(\n",
              "          (attention): BertAttention(\n",
              "            (self): BertSelfAttention(\n",
              "              (query): Linear(in_features=768, out_features=768, bias=True)\n",
              "              (key): Linear(in_features=768, out_features=768, bias=True)\n",
              "              (value): Linear(in_features=768, out_features=768, bias=True)\n",
              "              (dropout): Dropout(p=0.1, inplace=False)\n",
              "            )\n",
              "            (output): BertSelfOutput(\n",
              "              (dense): Linear(in_features=768, out_features=768, bias=True)\n",
              "              (LayerNorm): LayerNorm((768,), eps=1e-12, elementwise_affine=True)\n",
              "              (dropout): Dropout(p=0.1, inplace=False)\n",
              "            )\n",
              "          )\n",
              "          (intermediate): BertIntermediate(\n",
              "            (dense): Linear(in_features=768, out_features=3072, bias=True)\n",
              "          )\n",
              "          (output): BertOutput(\n",
              "            (dense): Linear(in_features=3072, out_features=768, bias=True)\n",
              "            (LayerNorm): LayerNorm((768,), eps=1e-12, elementwise_affine=True)\n",
              "            (dropout): Dropout(p=0.1, inplace=False)\n",
              "          )\n",
              "        )\n",
              "        (11): BertLayer(\n",
              "          (attention): BertAttention(\n",
              "            (self): BertSelfAttention(\n",
              "              (query): Linear(in_features=768, out_features=768, bias=True)\n",
              "              (key): Linear(in_features=768, out_features=768, bias=True)\n",
              "              (value): Linear(in_features=768, out_features=768, bias=True)\n",
              "              (dropout): Dropout(p=0.1, inplace=False)\n",
              "            )\n",
              "            (output): BertSelfOutput(\n",
              "              (dense): Linear(in_features=768, out_features=768, bias=True)\n",
              "              (LayerNorm): LayerNorm((768,), eps=1e-12, elementwise_affine=True)\n",
              "              (dropout): Dropout(p=0.1, inplace=False)\n",
              "            )\n",
              "          )\n",
              "          (intermediate): BertIntermediate(\n",
              "            (dense): Linear(in_features=768, out_features=3072, bias=True)\n",
              "          )\n",
              "          (output): BertOutput(\n",
              "            (dense): Linear(in_features=3072, out_features=768, bias=True)\n",
              "            (LayerNorm): LayerNorm((768,), eps=1e-12, elementwise_affine=True)\n",
              "            (dropout): Dropout(p=0.1, inplace=False)\n",
              "          )\n",
              "        )\n",
              "      )\n",
              "    )\n",
              "    (pooler): BertPooler(\n",
              "      (dense): Linear(in_features=768, out_features=768, bias=True)\n",
              "      (activation): Tanh()\n",
              "    )\n",
              "  )\n",
              "  (dropout): Dropout(p=0.1, inplace=False)\n",
              "  (classifier): Linear(in_features=768, out_features=25, bias=True)\n",
              ")"
            ]
          },
          "metadata": {},
          "execution_count": 11
        }
      ]
    },
    {
      "cell_type": "code",
      "metadata": {
        "id": "RXhSvNyd7lkz"
      },
      "source": [
        "import random\n",
        "import numpy as np\n",
        "device = torch.device('cuda' if torch.cuda.is_available() else 'cpu')\n",
        "model = model.to(device)\n",
        "seed_val = 17\n",
        "random.seed(seed_val)\n",
        "np.random.seed(seed_val)\n",
        "torch.manual_seed(seed_val)\n",
        "torch.cuda.manual_seed_all(seed_val)"
      ],
      "execution_count": null,
      "outputs": []
    },
    {
      "cell_type": "code",
      "metadata": {
        "colab": {
          "base_uri": "https://localhost:8080/"
        },
        "id": "SjtPEoqi8zLQ",
        "outputId": "92ed358e-7949-4233-8c9f-a647090e7fdb"
      },
      "source": [
        "model.eval()\n",
        "# Reset the validation loss for this epoch.\n",
        "eval_loss, eval_accuracy = 0, 0\n",
        "nb_eval_steps, nb_eval_examples = 0, 0\n",
        "predictions , true_labels = [], []\n",
        "for batch in valid_dataloader:\n",
        "    batch = tuple(t.to(device) for t in batch)\n",
        "    b_input_ids, b_input_mask = batch\n",
        "\n",
        "    \n",
        "    \n",
        "    with torch.no_grad():\n",
        "        # This will return the logits rather than the loss because we have not provided labels.\n",
        "        outputs = model(b_input_ids, token_type_ids=None,\n",
        "                        attention_mask=b_input_mask)\n",
        "        \n",
        "    outputs.keys()\n",
        "    \n",
        "    # logits = outputs.detach().cpu().numpy()\n",
        "    # label_ids = b_labels.to('cpu').numpy()\n",
        "\n",
        "    logits = outputs.logits\n",
        "    templst = logits.tolist()\n",
        "    # print(type(templst[0][1]))\n",
        "\n",
        "    # eval_loss += outputs.mean().item()\n",
        "    predictions.append(templst[0].index(max(templst[0])))\n",
        "    # true_labels.extend(label_ids)\n",
        "\n",
        "# eval_loss = eval_loss / len(valid_dataloader)\n",
        "# validation_loss_values.append(eval_loss)\n",
        "# print(\"Validation loss: {}\".format(eval_loss))\n",
        "# pred_tags = [tags_vals[p_i] for p, l in zip(predictions, true_labels)\n",
        "                              # for p_i, l_i in zip(p, l) if tags_vals[l_i] != \"PAD\"]\n",
        "print(predictions)"
      ],
      "execution_count": null,
      "outputs": [
        {
          "output_type": "stream",
          "name": "stdout",
          "text": [
            "[1, 18, 2, 14, 18, 1, 8, 0, 14, 14, 8, 11, 7, 0, 18, 15, 10, 8, 0, 8, 10, 5, 7, 4, 3, 15, 7, 18, 7, 10, 4, 5, 8, 4, 3, 15, 18, 18, 17, 15, 17, 18, 3, 4, 9, 12, 12, 4, 12, 12, 8, 4, 8, 6, 10, 7, 8, 12, 11, 14, 5, 12, 17, 18, 4, 12, 18, 12, 11, 11, 14, 0, 7, 8, 2, 7, 12, 18, 18, 11, 4, 12, 5, 2, 2, 18, 4, 6, 8, 7, 7, 10, 0, 1, 15, 7, 14, 14, 0, 10, 18, 15, 15, 0, 3, 7, 4, 5, 2, 0, 7, 8, 18, 7, 11, 8, 3, 2, 8, 10, 0, 0, 14, 10, 15, 4, 4, 3, 0, 8, 6, 0, 7, 10, 2, 11, 4, 14, 15, 11, 14, 14, 4, 1, 2, 7, 4, 7, 0, 12, 10, 2, 4, 11, 18, 0, 4, 18, 3, 4, 5, 11, 12, 18, 18, 4, 4, 4, 12, 18, 0, 5, 7, 3, 1, 11, 3, 11, 0, 1, 18, 11, 4, 11, 18, 14, 10, 18, 18, 11, 14, 14, 8, 11, 18, 7, 9, 18, 8, 11, 12, 4, 12, 17, 14, 1, 8, 12, 8, 5, 14, 18, 18, 0, 10, 14, 0, 17, 3, 12, 8, 7, 12, 12, 0, 17, 6, 15, 12, 4, 9, 17, 18, 7, 12, 7, 12, 18, 3, 9, 3, 2, 7, 12, 10, 7, 18, 4, 0, 4, 7, 7, 12, 10, 12, 5, 3, 4, 3, 18, 4, 18, 4, 10, 0, 4, 4, 10, 10, 10, 5, 0, 7, 0, 0, 0, 0, 4, 4, 4, 4, 0, 11, 5, 14, 7, 8, 0, 18, 18, 0, 0, 1, 7, 17, 11, 0, 4, 10, 12, 10, 10, 6, 2, 18, 4, 3, 4, 2, 10, 18, 5, 7, 8, 18, 9, 0, 8, 0, 7, 10, 0, 8, 11, 10, 10, 4, 0, 5, 14, 14, 4, 2, 3, 3, 12, 12, 12, 7, 18, 4, 4, 0, 9, 15, 18, 8, 14, 7, 18, 3, 12, 4, 10, 3, 14, 7, 15, 3, 9, 7, 7, 1, 3, 4, 12, 18, 0, 18, 2, 18, 2, 9, 4, 2, 0, 17, 4, 12, 1, 11, 1, 3, 4, 0, 15, 8, 11, 6, 4, 8, 18, 18, 7, 15, 12, 18, 4, 7, 18, 8, 12, 5, 12, 10, 14, 18, 12, 11, 12, 4, 1, 4, 12, 0, 4, 5, 8, 12, 8, 12, 8, 3, 10, 4, 18, 5, 10, 4, 8, 18, 12, 18, 6, 8, 12, 2, 6, 18, 5, 2, 12, 12, 10, 8, 14, 9, 12, 2, 7, 18, 6, 6, 5, 18, 10, 12, 18, 2, 7, 1, 2, 2, 3, 18, 5, 18, 0, 9, 6, 18, 6, 17, 10, 0, 4, 3, 4, 4, 10, 14, 0, 4, 4, 7, 3, 11, 10, 12, 12, 1, 18, 3, 1, 0, 7, 10, 15, 11, 3, 11, 7, 4, 4, 8, 15, 18, 7, 7, 3, 9, 8, 7, 2, 1, 4, 5, 9, 14, 12, 15, 7, 15, 4, 7, 15, 12, 8, 12, 18, 14, 3, 6, 10, 3, 15, 5, 8, 4, 4, 1, 14, 10, 18, 0, 0, 1, 0, 18, 7, 11, 12, 10, 0, 2, 4, 0, 1, 11, 12, 3, 4, 10, 8, 8, 18, 12, 10, 7, 18, 4, 18, 17, 10, 10, 3, 12, 14, 7, 1, 1, 15, 6, 18, 5, 7, 3, 10, 4, 3, 18, 6, 12, 4, 8, 12, 8, 3, 8, 2, 9, 3, 18, 18, 5, 8, 5, 4, 8, 10, 14, 3, 7, 1, 18, 10, 4, 0, 11, 18, 11, 14, 12, 8, 18, 1, 12, 12, 18, 0, 15, 10, 18, 4, 18, 0, 5, 10, 15, 4, 4, 1, 1, 10, 7, 12, 14, 5, 3, 3, 12, 0, 12, 18, 6, 8, 18, 5, 1, 4, 6, 4, 3, 18, 4, 17, 6, 12, 0, 5, 5, 7, 4, 18, 15, 18, 3, 14, 3, 7, 9, 12, 11, 18, 12, 10, 15, 3, 17, 14, 18, 7, 0, 12, 14, 10, 3, 1, 8, 7, 14, 1, 17, 4, 12, 14, 9, 18, 4, 5, 5, 18, 18, 0, 1, 12, 7, 6, 4, 10, 10, 4, 7, 4, 8, 2, 7, 0, 4, 0, 8, 18, 3, 18, 4, 3, 14, 18, 1, 8, 14, 18, 14, 9, 10, 12, 14, 0, 1, 7, 2, 14, 14, 18, 0, 4, 18, 7, 1, 15, 0, 18, 4, 6, 9, 17, 18, 1, 2, 18, 4, 12, 12, 10, 8, 12, 1, 18, 4, 9, 18, 0, 5, 14, 0, 12, 18, 3, 14, 3, 12, 5, 4, 8, 12, 6, 7, 12, 12, 4, 12, 10, 12, 12, 14, 9, 14, 15, 1, 6, 18, 18, 1, 18, 8, 18, 7, 6, 0, 15, 4, 7, 14, 5, 18, 9, 14, 10, 9, 12, 15, 18, 18, 8, 14, 2, 4, 12, 1, 18, 1, 12, 12, 18, 17, 12, 3, 3, 8, 8, 4, 4, 14, 14, 10, 0, 0, 10, 4, 0, 12, 12, 18, 14, 0, 18, 0, 12, 14, 0, 0, 4, 4, 4, 7, 0, 5, 10, 2, 17, 3, 12, 10, 11, 12, 17, 14, 14, 8, 9, 10, 17, 9, 7, 4, 5, 1, 4, 14, 8, 12, 14, 15, 12, 2, 0, 18, 4, 2, 3, 4, 2, 14, 18, 8, 12, 18, 12, 4, 2, 3, 0, 5, 7, 3, 14, 14, 14, 15, 0, 2, 12, 4, 5, 12, 8, 1, 14, 11, 2, 2, 15, 4, 6, 5, 11, 1, 4, 0, 4, 8, 18, 7, 14, 11, 2, 14, 4, 10, 4, 10, 4, 0, 7, 12, 11, 5, 2, 4, 18, 6, 18, 4, 12, 12, 7, 4, 4, 4, 14, 8, 17, 14, 1, 7, 8, 3, 0, 15, 12, 2, 4, 12, 18, 18, 4, 0, 0, 0, 14, 4, 2, 14, 1, 12, 3, 3, 0, 9, 5, 14, 1, 0, 11, 12, 15, 7, 11, 18, 0, 4, 18, 14]\n"
          ]
        }
      ]
    },
    {
      "cell_type": "code",
      "metadata": {
        "colab": {
          "base_uri": "https://localhost:8080/"
        },
        "id": "xF6y_xmzA9Dt",
        "outputId": "8582d993-90a9-4ea9-f71b-cdc809644a98"
      },
      "source": [
        "print(len(predictions))"
      ],
      "execution_count": null,
      "outputs": [
        {
          "output_type": "stream",
          "name": "stdout",
          "text": [
            "1023\n"
          ]
        }
      ]
    },
    {
      "cell_type": "code",
      "metadata": {
        "id": "eQp-flIGDCm1"
      },
      "source": [
        "df = pd.read_csv('gdrive/My Drive/2018-09-17-2021-09-27-Middle_East-South_Asia.csv')"
      ],
      "execution_count": null,
      "outputs": []
    },
    {
      "cell_type": "code",
      "metadata": {
        "colab": {
          "base_uri": "https://localhost:8080/"
        },
        "id": "7sZoOak7DIVG",
        "outputId": "debebadc-49cc-40aa-9cd1-874cb0c7736b"
      },
      "source": [
        "possible_labels = df.sub_event_type.unique()\n",
        "label_dict = {}\n",
        "for index, possible_label in enumerate(possible_labels):\n",
        "    label_dict[possible_label] = index\n",
        "label_dict"
      ],
      "execution_count": null,
      "outputs": [
        {
          "output_type": "execute_result",
          "data": {
            "text/plain": [
              "{'Abduction/forced disappearance': 11,\n",
              " 'Agreement': 16,\n",
              " 'Air/drone strike': 1,\n",
              " 'Armed clash': 4,\n",
              " 'Arrests': 9,\n",
              " 'Attack': 7,\n",
              " 'Change to group/activity': 18,\n",
              " 'Chemical weapon': 24,\n",
              " 'Disrupted weapons use': 8,\n",
              " 'Excessive force against protesters': 13,\n",
              " 'Government regains territory': 14,\n",
              " 'Grenade': 15,\n",
              " 'Headquarters or base established': 21,\n",
              " 'Looting/property destruction': 6,\n",
              " 'Mob violence': 5,\n",
              " 'Non-state actor overtakes territory': 23,\n",
              " 'Non-violent transfer of territory': 19,\n",
              " 'Other': 17,\n",
              " 'Peaceful protest': 0,\n",
              " 'Protest with intervention': 10,\n",
              " 'Remote explosive/landmine/IED': 12,\n",
              " 'Sexual violence': 22,\n",
              " 'Shelling/artillery/missile attack': 3,\n",
              " 'Suicide bomb': 20,\n",
              " 'Violent demonstration': 2}"
            ]
          },
          "metadata": {},
          "execution_count": 16
        }
      ]
    },
    {
      "cell_type": "code",
      "metadata": {
        "id": "URlHsgUfDKl_"
      },
      "source": [
        "key_list = list(label_dict.keys())\n",
        "val_list = list(label_dict.values())"
      ],
      "execution_count": null,
      "outputs": []
    },
    {
      "cell_type": "code",
      "metadata": {
        "id": "evxFHn-8Fpuj"
      },
      "source": [
        "pred_labels=[]\n",
        "for i in range(len(predictions)):\n",
        "  pred_labels.append(key_list[val_list.index(predictions[i])])\n",
        "  # print(i+1, pred_labels[i])"
      ],
      "execution_count": null,
      "outputs": []
    },
    {
      "cell_type": "code",
      "metadata": {
        "colab": {
          "base_uri": "https://localhost:8080/"
        },
        "id": "Xub5HcdXGDo0",
        "outputId": "5b72d2e7-2a12-46c1-8fbb-6e5a33d7f652"
      },
      "source": [
        "print(pred_labels);"
      ],
      "execution_count": null,
      "outputs": [
        {
          "output_type": "stream",
          "name": "stdout",
          "text": [
            "['Air/drone strike', 'Change to group/activity', 'Violent demonstration', 'Government regains territory', 'Change to group/activity', 'Air/drone strike', 'Disrupted weapons use', 'Peaceful protest', 'Government regains territory', 'Government regains territory', 'Disrupted weapons use', 'Abduction/forced disappearance', 'Attack', 'Peaceful protest', 'Change to group/activity', 'Grenade', 'Protest with intervention', 'Disrupted weapons use', 'Peaceful protest', 'Disrupted weapons use', 'Protest with intervention', 'Mob violence', 'Attack', 'Armed clash', 'Shelling/artillery/missile attack', 'Grenade', 'Attack', 'Change to group/activity', 'Attack', 'Protest with intervention', 'Armed clash', 'Mob violence', 'Disrupted weapons use', 'Armed clash', 'Shelling/artillery/missile attack', 'Grenade', 'Change to group/activity', 'Change to group/activity', 'Other', 'Grenade', 'Other', 'Change to group/activity', 'Shelling/artillery/missile attack', 'Armed clash', 'Arrests', 'Remote explosive/landmine/IED', 'Remote explosive/landmine/IED', 'Armed clash', 'Remote explosive/landmine/IED', 'Remote explosive/landmine/IED', 'Disrupted weapons use', 'Armed clash', 'Disrupted weapons use', 'Looting/property destruction', 'Protest with intervention', 'Attack', 'Disrupted weapons use', 'Remote explosive/landmine/IED', 'Abduction/forced disappearance', 'Government regains territory', 'Mob violence', 'Remote explosive/landmine/IED', 'Other', 'Change to group/activity', 'Armed clash', 'Remote explosive/landmine/IED', 'Change to group/activity', 'Remote explosive/landmine/IED', 'Abduction/forced disappearance', 'Abduction/forced disappearance', 'Government regains territory', 'Peaceful protest', 'Attack', 'Disrupted weapons use', 'Violent demonstration', 'Attack', 'Remote explosive/landmine/IED', 'Change to group/activity', 'Change to group/activity', 'Abduction/forced disappearance', 'Armed clash', 'Remote explosive/landmine/IED', 'Mob violence', 'Violent demonstration', 'Violent demonstration', 'Change to group/activity', 'Armed clash', 'Looting/property destruction', 'Disrupted weapons use', 'Attack', 'Attack', 'Protest with intervention', 'Peaceful protest', 'Air/drone strike', 'Grenade', 'Attack', 'Government regains territory', 'Government regains territory', 'Peaceful protest', 'Protest with intervention', 'Change to group/activity', 'Grenade', 'Grenade', 'Peaceful protest', 'Shelling/artillery/missile attack', 'Attack', 'Armed clash', 'Mob violence', 'Violent demonstration', 'Peaceful protest', 'Attack', 'Disrupted weapons use', 'Change to group/activity', 'Attack', 'Abduction/forced disappearance', 'Disrupted weapons use', 'Shelling/artillery/missile attack', 'Violent demonstration', 'Disrupted weapons use', 'Protest with intervention', 'Peaceful protest', 'Peaceful protest', 'Government regains territory', 'Protest with intervention', 'Grenade', 'Armed clash', 'Armed clash', 'Shelling/artillery/missile attack', 'Peaceful protest', 'Disrupted weapons use', 'Looting/property destruction', 'Peaceful protest', 'Attack', 'Protest with intervention', 'Violent demonstration', 'Abduction/forced disappearance', 'Armed clash', 'Government regains territory', 'Grenade', 'Abduction/forced disappearance', 'Government regains territory', 'Government regains territory', 'Armed clash', 'Air/drone strike', 'Violent demonstration', 'Attack', 'Armed clash', 'Attack', 'Peaceful protest', 'Remote explosive/landmine/IED', 'Protest with intervention', 'Violent demonstration', 'Armed clash', 'Abduction/forced disappearance', 'Change to group/activity', 'Peaceful protest', 'Armed clash', 'Change to group/activity', 'Shelling/artillery/missile attack', 'Armed clash', 'Mob violence', 'Abduction/forced disappearance', 'Remote explosive/landmine/IED', 'Change to group/activity', 'Change to group/activity', 'Armed clash', 'Armed clash', 'Armed clash', 'Remote explosive/landmine/IED', 'Change to group/activity', 'Peaceful protest', 'Mob violence', 'Attack', 'Shelling/artillery/missile attack', 'Air/drone strike', 'Abduction/forced disappearance', 'Shelling/artillery/missile attack', 'Abduction/forced disappearance', 'Peaceful protest', 'Air/drone strike', 'Change to group/activity', 'Abduction/forced disappearance', 'Armed clash', 'Abduction/forced disappearance', 'Change to group/activity', 'Government regains territory', 'Protest with intervention', 'Change to group/activity', 'Change to group/activity', 'Abduction/forced disappearance', 'Government regains territory', 'Government regains territory', 'Disrupted weapons use', 'Abduction/forced disappearance', 'Change to group/activity', 'Attack', 'Arrests', 'Change to group/activity', 'Disrupted weapons use', 'Abduction/forced disappearance', 'Remote explosive/landmine/IED', 'Armed clash', 'Remote explosive/landmine/IED', 'Other', 'Government regains territory', 'Air/drone strike', 'Disrupted weapons use', 'Remote explosive/landmine/IED', 'Disrupted weapons use', 'Mob violence', 'Government regains territory', 'Change to group/activity', 'Change to group/activity', 'Peaceful protest', 'Protest with intervention', 'Government regains territory', 'Peaceful protest', 'Other', 'Shelling/artillery/missile attack', 'Remote explosive/landmine/IED', 'Disrupted weapons use', 'Attack', 'Remote explosive/landmine/IED', 'Remote explosive/landmine/IED', 'Peaceful protest', 'Other', 'Looting/property destruction', 'Grenade', 'Remote explosive/landmine/IED', 'Armed clash', 'Arrests', 'Other', 'Change to group/activity', 'Attack', 'Remote explosive/landmine/IED', 'Attack', 'Remote explosive/landmine/IED', 'Change to group/activity', 'Shelling/artillery/missile attack', 'Arrests', 'Shelling/artillery/missile attack', 'Violent demonstration', 'Attack', 'Remote explosive/landmine/IED', 'Protest with intervention', 'Attack', 'Change to group/activity', 'Armed clash', 'Peaceful protest', 'Armed clash', 'Attack', 'Attack', 'Remote explosive/landmine/IED', 'Protest with intervention', 'Remote explosive/landmine/IED', 'Mob violence', 'Shelling/artillery/missile attack', 'Armed clash', 'Shelling/artillery/missile attack', 'Change to group/activity', 'Armed clash', 'Change to group/activity', 'Armed clash', 'Protest with intervention', 'Peaceful protest', 'Armed clash', 'Armed clash', 'Protest with intervention', 'Protest with intervention', 'Protest with intervention', 'Mob violence', 'Peaceful protest', 'Attack', 'Peaceful protest', 'Peaceful protest', 'Peaceful protest', 'Peaceful protest', 'Armed clash', 'Armed clash', 'Armed clash', 'Armed clash', 'Peaceful protest', 'Abduction/forced disappearance', 'Mob violence', 'Government regains territory', 'Attack', 'Disrupted weapons use', 'Peaceful protest', 'Change to group/activity', 'Change to group/activity', 'Peaceful protest', 'Peaceful protest', 'Air/drone strike', 'Attack', 'Other', 'Abduction/forced disappearance', 'Peaceful protest', 'Armed clash', 'Protest with intervention', 'Remote explosive/landmine/IED', 'Protest with intervention', 'Protest with intervention', 'Looting/property destruction', 'Violent demonstration', 'Change to group/activity', 'Armed clash', 'Shelling/artillery/missile attack', 'Armed clash', 'Violent demonstration', 'Protest with intervention', 'Change to group/activity', 'Mob violence', 'Attack', 'Disrupted weapons use', 'Change to group/activity', 'Arrests', 'Peaceful protest', 'Disrupted weapons use', 'Peaceful protest', 'Attack', 'Protest with intervention', 'Peaceful protest', 'Disrupted weapons use', 'Abduction/forced disappearance', 'Protest with intervention', 'Protest with intervention', 'Armed clash', 'Peaceful protest', 'Mob violence', 'Government regains territory', 'Government regains territory', 'Armed clash', 'Violent demonstration', 'Shelling/artillery/missile attack', 'Shelling/artillery/missile attack', 'Remote explosive/landmine/IED', 'Remote explosive/landmine/IED', 'Remote explosive/landmine/IED', 'Attack', 'Change to group/activity', 'Armed clash', 'Armed clash', 'Peaceful protest', 'Arrests', 'Grenade', 'Change to group/activity', 'Disrupted weapons use', 'Government regains territory', 'Attack', 'Change to group/activity', 'Shelling/artillery/missile attack', 'Remote explosive/landmine/IED', 'Armed clash', 'Protest with intervention', 'Shelling/artillery/missile attack', 'Government regains territory', 'Attack', 'Grenade', 'Shelling/artillery/missile attack', 'Arrests', 'Attack', 'Attack', 'Air/drone strike', 'Shelling/artillery/missile attack', 'Armed clash', 'Remote explosive/landmine/IED', 'Change to group/activity', 'Peaceful protest', 'Change to group/activity', 'Violent demonstration', 'Change to group/activity', 'Violent demonstration', 'Arrests', 'Armed clash', 'Violent demonstration', 'Peaceful protest', 'Other', 'Armed clash', 'Remote explosive/landmine/IED', 'Air/drone strike', 'Abduction/forced disappearance', 'Air/drone strike', 'Shelling/artillery/missile attack', 'Armed clash', 'Peaceful protest', 'Grenade', 'Disrupted weapons use', 'Abduction/forced disappearance', 'Looting/property destruction', 'Armed clash', 'Disrupted weapons use', 'Change to group/activity', 'Change to group/activity', 'Attack', 'Grenade', 'Remote explosive/landmine/IED', 'Change to group/activity', 'Armed clash', 'Attack', 'Change to group/activity', 'Disrupted weapons use', 'Remote explosive/landmine/IED', 'Mob violence', 'Remote explosive/landmine/IED', 'Protest with intervention', 'Government regains territory', 'Change to group/activity', 'Remote explosive/landmine/IED', 'Abduction/forced disappearance', 'Remote explosive/landmine/IED', 'Armed clash', 'Air/drone strike', 'Armed clash', 'Remote explosive/landmine/IED', 'Peaceful protest', 'Armed clash', 'Mob violence', 'Disrupted weapons use', 'Remote explosive/landmine/IED', 'Disrupted weapons use', 'Remote explosive/landmine/IED', 'Disrupted weapons use', 'Shelling/artillery/missile attack', 'Protest with intervention', 'Armed clash', 'Change to group/activity', 'Mob violence', 'Protest with intervention', 'Armed clash', 'Disrupted weapons use', 'Change to group/activity', 'Remote explosive/landmine/IED', 'Change to group/activity', 'Looting/property destruction', 'Disrupted weapons use', 'Remote explosive/landmine/IED', 'Violent demonstration', 'Looting/property destruction', 'Change to group/activity', 'Mob violence', 'Violent demonstration', 'Remote explosive/landmine/IED', 'Remote explosive/landmine/IED', 'Protest with intervention', 'Disrupted weapons use', 'Government regains territory', 'Arrests', 'Remote explosive/landmine/IED', 'Violent demonstration', 'Attack', 'Change to group/activity', 'Looting/property destruction', 'Looting/property destruction', 'Mob violence', 'Change to group/activity', 'Protest with intervention', 'Remote explosive/landmine/IED', 'Change to group/activity', 'Violent demonstration', 'Attack', 'Air/drone strike', 'Violent demonstration', 'Violent demonstration', 'Shelling/artillery/missile attack', 'Change to group/activity', 'Mob violence', 'Change to group/activity', 'Peaceful protest', 'Arrests', 'Looting/property destruction', 'Change to group/activity', 'Looting/property destruction', 'Other', 'Protest with intervention', 'Peaceful protest', 'Armed clash', 'Shelling/artillery/missile attack', 'Armed clash', 'Armed clash', 'Protest with intervention', 'Government regains territory', 'Peaceful protest', 'Armed clash', 'Armed clash', 'Attack', 'Shelling/artillery/missile attack', 'Abduction/forced disappearance', 'Protest with intervention', 'Remote explosive/landmine/IED', 'Remote explosive/landmine/IED', 'Air/drone strike', 'Change to group/activity', 'Shelling/artillery/missile attack', 'Air/drone strike', 'Peaceful protest', 'Attack', 'Protest with intervention', 'Grenade', 'Abduction/forced disappearance', 'Shelling/artillery/missile attack', 'Abduction/forced disappearance', 'Attack', 'Armed clash', 'Armed clash', 'Disrupted weapons use', 'Grenade', 'Change to group/activity', 'Attack', 'Attack', 'Shelling/artillery/missile attack', 'Arrests', 'Disrupted weapons use', 'Attack', 'Violent demonstration', 'Air/drone strike', 'Armed clash', 'Mob violence', 'Arrests', 'Government regains territory', 'Remote explosive/landmine/IED', 'Grenade', 'Attack', 'Grenade', 'Armed clash', 'Attack', 'Grenade', 'Remote explosive/landmine/IED', 'Disrupted weapons use', 'Remote explosive/landmine/IED', 'Change to group/activity', 'Government regains territory', 'Shelling/artillery/missile attack', 'Looting/property destruction', 'Protest with intervention', 'Shelling/artillery/missile attack', 'Grenade', 'Mob violence', 'Disrupted weapons use', 'Armed clash', 'Armed clash', 'Air/drone strike', 'Government regains territory', 'Protest with intervention', 'Change to group/activity', 'Peaceful protest', 'Peaceful protest', 'Air/drone strike', 'Peaceful protest', 'Change to group/activity', 'Attack', 'Abduction/forced disappearance', 'Remote explosive/landmine/IED', 'Protest with intervention', 'Peaceful protest', 'Violent demonstration', 'Armed clash', 'Peaceful protest', 'Air/drone strike', 'Abduction/forced disappearance', 'Remote explosive/landmine/IED', 'Shelling/artillery/missile attack', 'Armed clash', 'Protest with intervention', 'Disrupted weapons use', 'Disrupted weapons use', 'Change to group/activity', 'Remote explosive/landmine/IED', 'Protest with intervention', 'Attack', 'Change to group/activity', 'Armed clash', 'Change to group/activity', 'Other', 'Protest with intervention', 'Protest with intervention', 'Shelling/artillery/missile attack', 'Remote explosive/landmine/IED', 'Government regains territory', 'Attack', 'Air/drone strike', 'Air/drone strike', 'Grenade', 'Looting/property destruction', 'Change to group/activity', 'Mob violence', 'Attack', 'Shelling/artillery/missile attack', 'Protest with intervention', 'Armed clash', 'Shelling/artillery/missile attack', 'Change to group/activity', 'Looting/property destruction', 'Remote explosive/landmine/IED', 'Armed clash', 'Disrupted weapons use', 'Remote explosive/landmine/IED', 'Disrupted weapons use', 'Shelling/artillery/missile attack', 'Disrupted weapons use', 'Violent demonstration', 'Arrests', 'Shelling/artillery/missile attack', 'Change to group/activity', 'Change to group/activity', 'Mob violence', 'Disrupted weapons use', 'Mob violence', 'Armed clash', 'Disrupted weapons use', 'Protest with intervention', 'Government regains territory', 'Shelling/artillery/missile attack', 'Attack', 'Air/drone strike', 'Change to group/activity', 'Protest with intervention', 'Armed clash', 'Peaceful protest', 'Abduction/forced disappearance', 'Change to group/activity', 'Abduction/forced disappearance', 'Government regains territory', 'Remote explosive/landmine/IED', 'Disrupted weapons use', 'Change to group/activity', 'Air/drone strike', 'Remote explosive/landmine/IED', 'Remote explosive/landmine/IED', 'Change to group/activity', 'Peaceful protest', 'Grenade', 'Protest with intervention', 'Change to group/activity', 'Armed clash', 'Change to group/activity', 'Peaceful protest', 'Mob violence', 'Protest with intervention', 'Grenade', 'Armed clash', 'Armed clash', 'Air/drone strike', 'Air/drone strike', 'Protest with intervention', 'Attack', 'Remote explosive/landmine/IED', 'Government regains territory', 'Mob violence', 'Shelling/artillery/missile attack', 'Shelling/artillery/missile attack', 'Remote explosive/landmine/IED', 'Peaceful protest', 'Remote explosive/landmine/IED', 'Change to group/activity', 'Looting/property destruction', 'Disrupted weapons use', 'Change to group/activity', 'Mob violence', 'Air/drone strike', 'Armed clash', 'Looting/property destruction', 'Armed clash', 'Shelling/artillery/missile attack', 'Change to group/activity', 'Armed clash', 'Other', 'Looting/property destruction', 'Remote explosive/landmine/IED', 'Peaceful protest', 'Mob violence', 'Mob violence', 'Attack', 'Armed clash', 'Change to group/activity', 'Grenade', 'Change to group/activity', 'Shelling/artillery/missile attack', 'Government regains territory', 'Shelling/artillery/missile attack', 'Attack', 'Arrests', 'Remote explosive/landmine/IED', 'Abduction/forced disappearance', 'Change to group/activity', 'Remote explosive/landmine/IED', 'Protest with intervention', 'Grenade', 'Shelling/artillery/missile attack', 'Other', 'Government regains territory', 'Change to group/activity', 'Attack', 'Peaceful protest', 'Remote explosive/landmine/IED', 'Government regains territory', 'Protest with intervention', 'Shelling/artillery/missile attack', 'Air/drone strike', 'Disrupted weapons use', 'Attack', 'Government regains territory', 'Air/drone strike', 'Other', 'Armed clash', 'Remote explosive/landmine/IED', 'Government regains territory', 'Arrests', 'Change to group/activity', 'Armed clash', 'Mob violence', 'Mob violence', 'Change to group/activity', 'Change to group/activity', 'Peaceful protest', 'Air/drone strike', 'Remote explosive/landmine/IED', 'Attack', 'Looting/property destruction', 'Armed clash', 'Protest with intervention', 'Protest with intervention', 'Armed clash', 'Attack', 'Armed clash', 'Disrupted weapons use', 'Violent demonstration', 'Attack', 'Peaceful protest', 'Armed clash', 'Peaceful protest', 'Disrupted weapons use', 'Change to group/activity', 'Shelling/artillery/missile attack', 'Change to group/activity', 'Armed clash', 'Shelling/artillery/missile attack', 'Government regains territory', 'Change to group/activity', 'Air/drone strike', 'Disrupted weapons use', 'Government regains territory', 'Change to group/activity', 'Government regains territory', 'Arrests', 'Protest with intervention', 'Remote explosive/landmine/IED', 'Government regains territory', 'Peaceful protest', 'Air/drone strike', 'Attack', 'Violent demonstration', 'Government regains territory', 'Government regains territory', 'Change to group/activity', 'Peaceful protest', 'Armed clash', 'Change to group/activity', 'Attack', 'Air/drone strike', 'Grenade', 'Peaceful protest', 'Change to group/activity', 'Armed clash', 'Looting/property destruction', 'Arrests', 'Other', 'Change to group/activity', 'Air/drone strike', 'Violent demonstration', 'Change to group/activity', 'Armed clash', 'Remote explosive/landmine/IED', 'Remote explosive/landmine/IED', 'Protest with intervention', 'Disrupted weapons use', 'Remote explosive/landmine/IED', 'Air/drone strike', 'Change to group/activity', 'Armed clash', 'Arrests', 'Change to group/activity', 'Peaceful protest', 'Mob violence', 'Government regains territory', 'Peaceful protest', 'Remote explosive/landmine/IED', 'Change to group/activity', 'Shelling/artillery/missile attack', 'Government regains territory', 'Shelling/artillery/missile attack', 'Remote explosive/landmine/IED', 'Mob violence', 'Armed clash', 'Disrupted weapons use', 'Remote explosive/landmine/IED', 'Looting/property destruction', 'Attack', 'Remote explosive/landmine/IED', 'Remote explosive/landmine/IED', 'Armed clash', 'Remote explosive/landmine/IED', 'Protest with intervention', 'Remote explosive/landmine/IED', 'Remote explosive/landmine/IED', 'Government regains territory', 'Arrests', 'Government regains territory', 'Grenade', 'Air/drone strike', 'Looting/property destruction', 'Change to group/activity', 'Change to group/activity', 'Air/drone strike', 'Change to group/activity', 'Disrupted weapons use', 'Change to group/activity', 'Attack', 'Looting/property destruction', 'Peaceful protest', 'Grenade', 'Armed clash', 'Attack', 'Government regains territory', 'Mob violence', 'Change to group/activity', 'Arrests', 'Government regains territory', 'Protest with intervention', 'Arrests', 'Remote explosive/landmine/IED', 'Grenade', 'Change to group/activity', 'Change to group/activity', 'Disrupted weapons use', 'Government regains territory', 'Violent demonstration', 'Armed clash', 'Remote explosive/landmine/IED', 'Air/drone strike', 'Change to group/activity', 'Air/drone strike', 'Remote explosive/landmine/IED', 'Remote explosive/landmine/IED', 'Change to group/activity', 'Other', 'Remote explosive/landmine/IED', 'Shelling/artillery/missile attack', 'Shelling/artillery/missile attack', 'Disrupted weapons use', 'Disrupted weapons use', 'Armed clash', 'Armed clash', 'Government regains territory', 'Government regains territory', 'Protest with intervention', 'Peaceful protest', 'Peaceful protest', 'Protest with intervention', 'Armed clash', 'Peaceful protest', 'Remote explosive/landmine/IED', 'Remote explosive/landmine/IED', 'Change to group/activity', 'Government regains territory', 'Peaceful protest', 'Change to group/activity', 'Peaceful protest', 'Remote explosive/landmine/IED', 'Government regains territory', 'Peaceful protest', 'Peaceful protest', 'Armed clash', 'Armed clash', 'Armed clash', 'Attack', 'Peaceful protest', 'Mob violence', 'Protest with intervention', 'Violent demonstration', 'Other', 'Shelling/artillery/missile attack', 'Remote explosive/landmine/IED', 'Protest with intervention', 'Abduction/forced disappearance', 'Remote explosive/landmine/IED', 'Other', 'Government regains territory', 'Government regains territory', 'Disrupted weapons use', 'Arrests', 'Protest with intervention', 'Other', 'Arrests', 'Attack', 'Armed clash', 'Mob violence', 'Air/drone strike', 'Armed clash', 'Government regains territory', 'Disrupted weapons use', 'Remote explosive/landmine/IED', 'Government regains territory', 'Grenade', 'Remote explosive/landmine/IED', 'Violent demonstration', 'Peaceful protest', 'Change to group/activity', 'Armed clash', 'Violent demonstration', 'Shelling/artillery/missile attack', 'Armed clash', 'Violent demonstration', 'Government regains territory', 'Change to group/activity', 'Disrupted weapons use', 'Remote explosive/landmine/IED', 'Change to group/activity', 'Remote explosive/landmine/IED', 'Armed clash', 'Violent demonstration', 'Shelling/artillery/missile attack', 'Peaceful protest', 'Mob violence', 'Attack', 'Shelling/artillery/missile attack', 'Government regains territory', 'Government regains territory', 'Government regains territory', 'Grenade', 'Peaceful protest', 'Violent demonstration', 'Remote explosive/landmine/IED', 'Armed clash', 'Mob violence', 'Remote explosive/landmine/IED', 'Disrupted weapons use', 'Air/drone strike', 'Government regains territory', 'Abduction/forced disappearance', 'Violent demonstration', 'Violent demonstration', 'Grenade', 'Armed clash', 'Looting/property destruction', 'Mob violence', 'Abduction/forced disappearance', 'Air/drone strike', 'Armed clash', 'Peaceful protest', 'Armed clash', 'Disrupted weapons use', 'Change to group/activity', 'Attack', 'Government regains territory', 'Abduction/forced disappearance', 'Violent demonstration', 'Government regains territory', 'Armed clash', 'Protest with intervention', 'Armed clash', 'Protest with intervention', 'Armed clash', 'Peaceful protest', 'Attack', 'Remote explosive/landmine/IED', 'Abduction/forced disappearance', 'Mob violence', 'Violent demonstration', 'Armed clash', 'Change to group/activity', 'Looting/property destruction', 'Change to group/activity', 'Armed clash', 'Remote explosive/landmine/IED', 'Remote explosive/landmine/IED', 'Attack', 'Armed clash', 'Armed clash', 'Armed clash', 'Government regains territory', 'Disrupted weapons use', 'Other', 'Government regains territory', 'Air/drone strike', 'Attack', 'Disrupted weapons use', 'Shelling/artillery/missile attack', 'Peaceful protest', 'Grenade', 'Remote explosive/landmine/IED', 'Violent demonstration', 'Armed clash', 'Remote explosive/landmine/IED', 'Change to group/activity', 'Change to group/activity', 'Armed clash', 'Peaceful protest', 'Peaceful protest', 'Peaceful protest', 'Government regains territory', 'Armed clash', 'Violent demonstration', 'Government regains territory', 'Air/drone strike', 'Remote explosive/landmine/IED', 'Shelling/artillery/missile attack', 'Shelling/artillery/missile attack', 'Peaceful protest', 'Arrests', 'Mob violence', 'Government regains territory', 'Air/drone strike', 'Peaceful protest', 'Abduction/forced disappearance', 'Remote explosive/landmine/IED', 'Grenade', 'Attack', 'Abduction/forced disappearance', 'Change to group/activity', 'Peaceful protest', 'Armed clash', 'Change to group/activity', 'Government regains territory']\n"
          ]
        }
      ]
    },
    {
      "cell_type": "code",
      "metadata": {
        "colab": {
          "base_uri": "https://localhost:8080/",
          "height": 206
        },
        "id": "XIqk_v_EUQXK",
        "outputId": "dc058be5-f9a8-42ef-be28-5f259fa0a304"
      },
      "source": [
        "labeldf = pd.read_csv('gdrive/My Drive/test_set_final_release_with_labels.tsv',sep ='\\t')\n",
        "labeldf.head()\n",
        "\n"
      ],
      "execution_count": null,
      "outputs": [
        {
          "output_type": "execute_result",
          "data": {
            "text/html": [
              "<div>\n",
              "<style scoped>\n",
              "    .dataframe tbody tr th:only-of-type {\n",
              "        vertical-align: middle;\n",
              "    }\n",
              "\n",
              "    .dataframe tbody tr th {\n",
              "        vertical-align: top;\n",
              "    }\n",
              "\n",
              "    .dataframe thead th {\n",
              "        text-align: right;\n",
              "    }\n",
              "</style>\n",
              "<table border=\"1\" class=\"dataframe\">\n",
              "  <thead>\n",
              "    <tr style=\"text-align: right;\">\n",
              "      <th></th>\n",
              "      <th>id</th>\n",
              "      <th>EventSnippet</th>\n",
              "      <th>SubType</th>\n",
              "    </tr>\n",
              "  </thead>\n",
              "  <tbody>\n",
              "    <tr>\n",
              "      <th>0</th>\n",
              "      <td>1</td>\n",
              "      <td>The US warplanes pounded the village of Kashka...</td>\n",
              "      <td>AIR_STRIKE</td>\n",
              "    </tr>\n",
              "    <tr>\n",
              "      <th>1</th>\n",
              "      <td>2</td>\n",
              "      <td>After a five-week drop of Covid-19 cases in Pu...</td>\n",
              "      <td>NATURAL_DISASTER</td>\n",
              "    </tr>\n",
              "    <tr>\n",
              "      <th>2</th>\n",
              "      <td>3</td>\n",
              "      <td>Officers brutally attacked and injured a peace...</td>\n",
              "      <td>FORCE_AGAINST_PROTEST</td>\n",
              "    </tr>\n",
              "    <tr>\n",
              "      <th>3</th>\n",
              "      <td>4</td>\n",
              "      <td>On December 13, ISIS fighters recaptured the v...</td>\n",
              "      <td>NON_STATE_ACTOR_OVERTAKES_TER</td>\n",
              "    </tr>\n",
              "    <tr>\n",
              "      <th>4</th>\n",
              "      <td>5</td>\n",
              "      <td>Vice-President Mike Pence said Thursday that t...</td>\n",
              "      <td>AGREEMENT</td>\n",
              "    </tr>\n",
              "  </tbody>\n",
              "</table>\n",
              "</div>"
            ],
            "text/plain": [
              "   id  ...                        SubType\n",
              "0   1  ...                     AIR_STRIKE\n",
              "1   2  ...               NATURAL_DISASTER\n",
              "2   3  ...          FORCE_AGAINST_PROTEST\n",
              "3   4  ...  NON_STATE_ACTOR_OVERTAKES_TER\n",
              "4   5  ...                      AGREEMENT\n",
              "\n",
              "[5 rows x 3 columns]"
            ]
          },
          "metadata": {},
          "execution_count": 20
        }
      ]
    },
    {
      "cell_type": "code",
      "metadata": {
        "colab": {
          "base_uri": "https://localhost:8080/"
        },
        "id": "-q0HCFVrD228",
        "outputId": "e73ba098-7d6a-4842-d829-760ae72bc749"
      },
      "source": [
        "correct_labels_inwords = labeldf['SubType']\n",
        "given_ids = labeldf['id']\n",
        "given_sents = labeldf['EventSnippet']\n",
        "# print(len(given_sents))\n",
        "# print(given_ids)\n",
        "given_ids = given_ids.tolist()\n",
        "# print((given_ids))\n",
        "print(\"ids of missing sentences are:\\n\")\n",
        "for i in range(1,1024):\n",
        "  if i not in given_ids:\n",
        "    print(i)\n",
        "  \n",
        "    "
      ],
      "execution_count": null,
      "outputs": [
        {
          "output_type": "stream",
          "name": "stdout",
          "text": [
            "ids of missing sentences are:\n",
            "\n",
            "142\n",
            "205\n",
            "737\n",
            "957\n"
          ]
        }
      ]
    },
    {
      "cell_type": "code",
      "metadata": {
        "colab": {
          "base_uri": "https://localhost:8080/"
        },
        "id": "OejToj11UxyG",
        "outputId": "56c4e948-abab-4089-c261-18ac71a8c194"
      },
      "source": [
        "possible_test_labels = labeldf.SubType.unique()\n",
        "label_test_dict = {'AIR_STRIKE':1,'NATURAL_DISASTER':25 ,'FORCE_AGAINST_PROTEST':13,'NON_STATE_ACTOR_OVERTAKES_TER':23,'AGREEMENT':16,'CHEM_WEAP':24,\n",
        "                   'PEACE_PROTEST':0,'GOV_REGAINS_TERIT':14,'DISR_WEAP':8,'PROPERTY_DISTRUCT':6,'OTHER':17,'CHANGE_TO_GROUP_ACT':18,'GRENADE':15,'VIOL_DEMONSTR':2,\n",
        "                   'MAN_MADE_DISASTER':26,'ATTRIB':27,'MOB_VIOL':5,'ATTACK':7,'ARMED_CLASH':4,'ART_MISS_ATTACK':3,'NON_VIOL_TERRIT_TRANSFER':19,\n",
        "                   'PROTEST_WITH_INTER':10, 'DIPLO':28, 'SUIC_BOMB':20, 'ARREST':9, 'REM_EXPLOS':12, 'SEX_VIOL':22, 'ORG_CRIME':29, 'ABDUCT_DISSAP':11,\n",
        " 'HQ_ESTABLISHED':21}\n",
        "label_test_dict\n"
      ],
      "execution_count": null,
      "outputs": [
        {
          "output_type": "execute_result",
          "data": {
            "text/plain": [
              "{'ABDUCT_DISSAP': 11,\n",
              " 'AGREEMENT': 16,\n",
              " 'AIR_STRIKE': 1,\n",
              " 'ARMED_CLASH': 4,\n",
              " 'ARREST': 9,\n",
              " 'ART_MISS_ATTACK': 3,\n",
              " 'ATTACK': 7,\n",
              " 'ATTRIB': 27,\n",
              " 'CHANGE_TO_GROUP_ACT': 18,\n",
              " 'CHEM_WEAP': 24,\n",
              " 'DIPLO': 28,\n",
              " 'DISR_WEAP': 8,\n",
              " 'FORCE_AGAINST_PROTEST': 13,\n",
              " 'GOV_REGAINS_TERIT': 14,\n",
              " 'GRENADE': 15,\n",
              " 'HQ_ESTABLISHED': 21,\n",
              " 'MAN_MADE_DISASTER': 26,\n",
              " 'MOB_VIOL': 5,\n",
              " 'NATURAL_DISASTER': 25,\n",
              " 'NON_STATE_ACTOR_OVERTAKES_TER': 23,\n",
              " 'NON_VIOL_TERRIT_TRANSFER': 19,\n",
              " 'ORG_CRIME': 29,\n",
              " 'OTHER': 17,\n",
              " 'PEACE_PROTEST': 0,\n",
              " 'PROPERTY_DISTRUCT': 6,\n",
              " 'PROTEST_WITH_INTER': 10,\n",
              " 'REM_EXPLOS': 12,\n",
              " 'SEX_VIOL': 22,\n",
              " 'SUIC_BOMB': 20,\n",
              " 'VIOL_DEMONSTR': 2}"
            ]
          },
          "metadata": {},
          "execution_count": 22
        }
      ]
    },
    {
      "cell_type": "code",
      "metadata": {
        "id": "Cr40ARYnERkY"
      },
      "source": [
        "key_list_new = list(label_test_dict.keys())\n",
        "val_list_new = list(label_test_dict.values())"
      ],
      "execution_count": null,
      "outputs": []
    },
    {
      "cell_type": "code",
      "metadata": {
        "colab": {
          "base_uri": "https://localhost:8080/"
        },
        "id": "OYmDQ-i48MnQ",
        "outputId": "e02107b2-1c85-4a01-ca00-b0f9bf4c5df1"
      },
      "source": [
        "correct_list = [0]*1024\n",
        "for i in range(len(correct_labels_inwords)):\n",
        "  correct_list[given_ids[i]] = (val_list_new[key_list_new.index(correct_labels_inwords[i])])\n",
        "print(correct_list)\n",
        "\n"
      ],
      "execution_count": null,
      "outputs": [
        {
          "output_type": "stream",
          "name": "stdout",
          "text": [
            "[0, 1, 25, 13, 23, 16, 24, 24, 0, 14, 14, 8, 6, 17, 0, 18, 15, 2, 26, 27, 8, 13, 5, 7, 4, 3, 15, 7, 19, 5, 10, 8, 5, 8, 4, 3, 15, 18, 16, 28, 15, 28, 18, 20, 16, 9, 27, 12, 8, 20, 8, 8, 4, 19, 26, 13, 22, 24, 26, 29, 14, 29, 26, 24, 28, 4, 12, 19, 26, 27, 9, 14, 22, 24, 8, 9, 24, 26, 27, 28, 11, 4, 25, 6, 25, 2, 28, 4, 26, 8, 12, 22, 2, 0, 24, 15, 22, 14, 23, 0, 2, 21, 15, 15, 0, 25, 7, 4, 2, 2, 0, 24, 8, 25, 22, 11, 24, 1, 2, 8, 5, 0, 0, 4, 2, 15, 16, 29, 3, 0, 8, 25, 0, 7, 10, 2, 9, 3, 11, 15, 1, 14, 0, 14, 14, 13, 26, 16, 2, 5, 8, 13, 2, 3, 11, 18, 0, 3, 21, 3, 27, 26, 11, 26, 18, 16, 4, 3, 9, 12, 18, 0, 5, 5, 3, 1, 29, 3, 8, 0, 20, 16, 28, 4, 11, 16, 16, 9, 18, 21, 11, 14, 14, 8, 29, 18, 7, 29, 28, 8, 11, 26, 3, 12, 17, 0, 1, 8, 12, 8, 4, 23, 28, 21, 0, 0, 14, 16, 28, 25, 12, 8, 7, 12, 12, 2, 28, 25, 15, 20, 4, 9, 15, 17, 24, 26, 20, 25, 23, 25, 29, 26, 6, 20, 26, 13, 15, 18, 4, 28, 8, 20, 20, 12, 2, 12, 22, 24, 4, 25, 28, 15, 28, 17, 2, 2, 23, 4, 9, 13, 13, 22, 28, 7, 0, 28, 2, 0, 5, 4, 20, 4, 28, 9, 16, 14, 7, 29, 2, 25, 17, 0, 0, 1, 20, 29, 11, 0, 26, 0, 26, 10, 22, 15, 2, 16, 24, 24, 27, 2, 10, 18, 26, 22, 8, 27, 9, 0, 8, 0, 7, 13, 0, 8, 9, 13, 13, 3, 2, 6, 14, 19, 15, 2, 24, 4, 25, 20, 12, 22, 16, 4, 4, 2, 9, 15, 16, 29, 23, 9, 19, 25, 24, 4, 10, 25, 23, 29, 15, 1, 29, 20, 24, 1, 3, 4, 25, 21, 0, 16, 2, 6, 2, 9, 27, 2, 0, 17, 4, 8, 1, 28, 1, 3, 20, 0, 15, 8, 11, 6, 4, 8, 18, 16, 7, 15, 12, 16, 5, 24, 27, 8, 24, 6, 20, 10, 19, 18, 27, 11, 12, 14, 1, 23, 20, 0, 4, 6, 8, 29, 8, 26, 8, 15, 10, 24, 28, 27, 13, 4, 24, 21, 12, 27, 5, 8, 12, 5, 26, 17, 6, 2, 26, 20, 10, 25, 14, 9, 20, 2, 7, 14, 6, 27, 5, 28, 10, 20, 25, 2, 11, 1, 2, 2, 25, 16, 5, 28, 0, 29, 6, 18, 25, 26, 10, 0, 20, 3, 14, 8, 28, 14, 10, 16, 4, 22, 3, 11, 13, 12, 24, 1, 28, 3, 1, 0, 26, 9, 15, 9, 3, 29, 7, 4, 8, 23, 15, 28, 29, 20, 1, 9, 8, 22, 2, 1, 14, 6, 9, 23, 20, 15, 24, 15, 3, 22, 15, 20, 24, 27, 9, 19, 3, 25, 13, 3, 15, 29, 8, 8, 23, 1, 16, 13, 16, 2, 28, 1, 0, 18, 29, 9, 12, 2, 0, 13, 4, 2, 1, 23, 26, 3, 4, 0, 8, 8, 18, 26, 2, 20, 16, 7, 28, 28, 10, 10, 25, 26, 19, 22, 1, 1, 29, 25, 21, 5, 4, 25, 13, 4, 27, 21, 26, 12, 4, 8, 26, 29, 25, 8, 15, 22, 3, 21, 21, 2, 8, 22, 4, 8, 10, 19, 27, 7, 25, 21, 10, 4, 0, 26, 16, 11, 23, 26, 8, 28, 1, 26, 12, 18, 0, 15, 10, 18, 14, 1, 27, 5, 29, 15, 4, 4, 20, 8, 13, 29, 12, 23, 20, 8, 3, 26, 0, 26, 21, 25, 8, 18, 22, 24, 4, 24, 4, 24, 18, 15, 28, 25, 20, 0, 6, 22, 7, 4, 25, 15, 14, 25, 19, 3, 7, 29, 12, 11, 19, 15, 2, 15, 3, 2, 14, 28, 7, 0, 12, 23, 2, 3, 27, 8, 20, 14, 1, 26, 16, 24, 14, 28, 25, 4, 27, 6, 18, 21, 28, 1, 26, 20, 6, 19, 6, 10, 7, 26, 9, 26, 2, 7, 9, 4, 0, 27, 18, 3, 18, 4, 24, 0, 0, 24, 8, 19, 18, 21, 29, 13, 20, 23, 10, 18, 7, 2, 23, 19, 28, 0, 4, 16, 26, 1, 15, 0, 28, 16, 25, 22, 15, 28, 1, 2, 21, 23, 26, 8, 29, 8, 26, 1, 25, 9, 9, 18, 0, 20, 14, 2, 25, 16, 24, 23, 25, 20, 2, 4, 8, 20, 26, 7, 20, 20, 4, 26, 10, 4, 27, 23, 29, 14, 15, 1, 26, 19, 16, 1, 21, 8, 21, 22, 28, 27, 15, 4, 7, 14, 20, 28, 29, 19, 13, 9, 20, 15, 28, 14, 26, 14, 26, 20, 12, 1, 28, 24, 12, 27, 21, 15, 12, 24, 3, 9, 8, 4, 4, 14, 14, 26, 28, 0, 11, 15, 6, 12, 26, 16, 19, 0, 14, 0, 12, 14, 0, 2, 4, 4, 6, 20, 0, 27, 10, 10, 28, 3, 12, 9, 11, 26, 15, 23, 19, 17, 28, 18, 26, 9, 24, 4, 5, 1, 20, 19, 8, 24, 14, 15, 12, 13, 13, 21, 4, 2, 24, 15, 2, 14, 18, 8, 26, 18, 12, 4, 2, 3, 0, 22, 24, 3, 14, 23, 14, 3, 0, 15, 20, 4, 29, 12, 8, 1, 19, 11, 2, 13, 15, 4, 25, 6, 11, 27, 7, 27, 6, 8, 28, 5, 14, 6, 25, 0, 4, 2, 4, 10, 7, 18, 27, 24, 29, 7, 2, 4, 16, 26, 21, 4, 12, 12, 26, 4, 9, 3, 19, 8, 28, 23, 1, 7, 27, 3, 0, 15, 20, 15, 4, 12, 21, 18, 4, 2, 0, 0, 4, 9, 2, 16, 1, 12, 3, 26, 0, 9, 22, 21, 1, 0, 9, 7, 15, 22, 9, 28, 0, 4, 11, 23]\n"
          ]
        }
      ]
    },
    {
      "cell_type": "code",
      "metadata": {
        "id": "eNEDR3qSWNol"
      },
      "source": [
        "correct_class = [0]*30\n",
        "total_in_class = [0]*30"
      ],
      "execution_count": null,
      "outputs": []
    },
    {
      "cell_type": "code",
      "metadata": {
        "colab": {
          "base_uri": "https://localhost:8080/"
        },
        "id": "hzmeXLaXFRe3",
        "outputId": "c9c60f89-2a3a-4c54-af05-100cfa9da46c"
      },
      "source": [
        "score=0\n",
        "for i in range(1,len(correct_list)):\n",
        "  if(predictions[i-1]==correct_list[i]):\n",
        "    score = score+1\n",
        "    correct_class[predictions[i-1]]+=1\n",
        "  total_in_class[correct_list[i]] +=1\n",
        "print(\"Total correctly predicted labels =\", score)\n"
      ],
      "execution_count": null,
      "outputs": [
        {
          "output_type": "stream",
          "name": "stdout",
          "text": [
            "Total correctly predicted labels = 446\n"
          ]
        }
      ]
    },
    {
      "cell_type": "code",
      "metadata": {
        "colab": {
          "base_uri": "https://localhost:8080/"
        },
        "id": "XUGo8yIkWtwH",
        "outputId": "358a2dea-d321-4d54-fcd8-627016fa7247"
      },
      "source": [
        "print(\"Accuracy in each class:\\n\")\n",
        "for i in range(len(correct_class)):\n",
        "  print(key_list_new[val_list_new.index(i)],\":\",correct_class[i],\"/\",total_in_class[i],\"=\",correct_class[i]/total_in_class[i])"
      ],
      "execution_count": null,
      "outputs": [
        {
          "output_type": "stream",
          "name": "stdout",
          "text": [
            "Accuracy in each class:\n",
            "\n",
            "PEACE_PROTEST : 53 / 61 = 0.8688524590163934\n",
            "AIR_STRIKE : 31 / 36 = 0.8611111111111112\n",
            "VIOL_DEMONSTR : 26 / 53 = 0.49056603773584906\n",
            "ART_MISS_ATTACK : 27 / 36 = 0.75\n",
            "ARMED_CLASH : 60 / 66 = 0.9090909090909091\n",
            "MOB_VIOL : 8 / 17 = 0.47058823529411764\n",
            "PROPERTY_DISTRUCT : 4 / 21 = 0.19047619047619047\n",
            "ATTACK : 21 / 27 = 0.7777777777777778\n",
            "DISR_WEAP : 45 / 58 = 0.7758620689655172\n",
            "ARREST : 12 / 34 = 0.35294117647058826\n",
            "PROTEST_WITH_INTER : 19 / 22 = 0.8636363636363636\n",
            "ABDUCT_DISSAP : 16 / 20 = 0.8\n",
            "REM_EXPLOS : 35 / 36 = 0.9722222222222222\n",
            "FORCE_AGAINST_PROTEST : 0 / 23 = 0.0\n",
            "GOV_REGAINS_TERIT : 28 / 38 = 0.7368421052631579\n",
            "GRENADE : 32 / 48 = 0.6666666666666666\n",
            "AGREEMENT : 0 / 31 = 0.0\n",
            "OTHER : 2 / 8 = 0.25\n",
            "CHANGE_TO_GROUP_ACT : 27 / 30 = 0.9\n",
            "NON_VIOL_TERRIT_TRANSFER : 0 / 21 = 0.0\n",
            "SUIC_BOMB : 0 / 41 = 0.0\n",
            "HQ_ESTABLISHED : 0 / 22 = 0.0\n",
            "SEX_VIOL : 0 / 23 = 0.0\n",
            "NON_STATE_ACTOR_OVERTAKES_TER : 0 / 24 = 0.0\n",
            "CHEM_WEAP : 0 / 37 = 0.0\n",
            "NATURAL_DISASTER : 0 / 37 = 0.0\n",
            "MAN_MADE_DISASTER : 0 / 52 = 0.0\n",
            "ATTRIB : 0 / 28 = 0.0\n",
            "DIPLO : 0 / 44 = 0.0\n",
            "ORG_CRIME : 0 / 29 = 0.0\n"
          ]
        }
      ]
    }
  ]
}